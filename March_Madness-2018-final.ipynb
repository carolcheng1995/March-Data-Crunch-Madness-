{
 "cells": [
  {
   "cell_type": "code",
   "execution_count": 3,
   "metadata": {},
   "outputs": [],
   "source": [
    "import pandas as pd\n",
    "import math\n",
    "import csv\n",
    "import random\n",
    "import numpy as np\n",
    "from sklearn import linear_model\n",
    "from sklearn.model_selection import cross_val_score\n",
    "from sklearn.cross_validation import train_test_split\n",
    "from sklearn.externals import joblib\n",
    "from sklearn.linear_model import LogisticRegression\n",
    "from sklearn.metrics import (auc, classification_report, roc_auc_score, accuracy_score,\n",
    "                             f1_score, log_loss, roc_curve, confusion_matrix, precision_score, recall_score)\n",
    "from sklearn.preprocessing import StandardScaler\n",
    "from math import sin, cos, sqrt, atan2, radians\n",
    "import statsmodels.api as sm\n",
    "from sklearn.datasets import make_blobs\n",
    "from sklearn.ensemble import RandomForestClassifier\n",
    "from sklearn.ensemble import ExtraTreesClassifier\n",
    "from sklearn.tree import DecisionTreeClassifier\n",
    "from sklearn.model_selection import train_test_split\n",
    "from sklearn.model_selection import cross_val_score"
   ]
  },
  {
   "cell_type": "code",
   "execution_count": 2,
   "metadata": {
    "scrolled": true
   },
   "outputs": [
    {
     "data": {
      "text/plain": [
       "Index(['Numot', 'Season', 'game_id', 'host_lat', 'host_long', 'host_site',\n",
       "       'result', 'season', 'team1_adjde', 'team1_adjoe', 'team1_adjtempo',\n",
       "       'team1_ap_final', 'team1_ap_preseason', 'team1_arate', 'team1_blockpct',\n",
       "       'team1_coach_id', 'team1_coach_name', 'team1_coaches_before_final',\n",
       "       'team1_coaches_preseason', 'team1_de', 'team1_f3grate', 'team1_fg2pct',\n",
       "       'team1_fg3pct', 'team1_ftpct', 'team1_id', 'team1_lat', 'team1_long',\n",
       "       'team1_oe', 'team1_opparate', 'team1_oppblockpct', 'team1_oppf3grate',\n",
       "       'team1_oppfg2pct', 'team1_oppfg3pct', 'team1_oppftpct',\n",
       "       'team1_oppstlrate', 'team1_pt_career_overall_losses',\n",
       "       'team1_pt_career_school_losses', 'team1_pt_career_school_wins',\n",
       "       'team1_pt_coach_season_losses', 'team1_pt_coach_season_wins',\n",
       "       'team1_pt_overall_ff', 'team1_pt_overall_ncaa', 'team1_pt_overall_s16',\n",
       "       'team1_pt_school_ff', 'team1_pt_school_ncaa', 'team1_pt_school_s16',\n",
       "       'team1_pt_team_season_losses', 'team1_pt_team_season_wins',\n",
       "       'team1_rpi_rating', 'team1_score', 'team1_seed', 'team1_stlrate',\n",
       "       'team1_teamname', 'team1_tempo', 'team2_adjde', 'team2_adjoe',\n",
       "       'team2_adjtempo', 'team2_ap_final', 'team2_ap_preseason', 'team2_arate',\n",
       "       'team2_blockpct', 'team2_coach_id', 'team2_coach_name',\n",
       "       'team2_coaches_before_final', 'team2_coaches_preseason', 'team2_de',\n",
       "       'team2_f3grate', 'team2_fg2pct', 'team2_fg3pct', 'team2_ftpct',\n",
       "       'team2_id', 'team2_lat', 'team2_long', 'team2_oe', 'team2_opparate',\n",
       "       'team2_oppblockpct', 'team2_oppf3grate', 'team2_oppfg2pct',\n",
       "       'team2_oppfg3pct', 'team2_oppftpct', 'team2_oppstlrate',\n",
       "       'team2_pt_career_overall_losses', 'team2_pt_career_school_losses',\n",
       "       'team2_pt_career_school_wins', 'team2_pt_coach_season_losses',\n",
       "       'team2_pt_coach_season_wins', 'team2_pt_overall_ff',\n",
       "       'team2_pt_overall_ncaa', 'team2_pt_overall_s16', 'team2_pt_school_ff',\n",
       "       'team2_pt_school_ncaa', 'team2_pt_school_s16',\n",
       "       'team2_pt_team_season_losses', 'team2_pt_team_season_wins',\n",
       "       'team2_rpi_rating', 'team2_score', 'team2_seed', 'team2_stlrate',\n",
       "       'team2_teamname', 'team2_tempo'],\n",
       "      dtype='object')"
      ]
     },
     "execution_count": 2,
     "metadata": {},
     "output_type": "execute_result"
    }
   ],
   "source": [
    "data = pd.read_csv(\"D:/FORDHAM/March Madness/data/NCAA_Tourney_2002-2017.csv\")\n",
    "data.columns"
   ]
  },
  {
   "cell_type": "code",
   "execution_count": 4,
   "metadata": {
    "collapsed": true
   },
   "outputs": [],
   "source": [
    "MM2 = data[['result', 'game_id','team1_adjde', 'team1_adjoe',\n",
    "       'team1_adjtempo', 'team1_arate', 'team1_blockpct', 'team1_fg2pct',\n",
    "       'team1_fg3pct', 'team1_ftpct', 'team1_id', 'team1_opparate',\n",
    "       'team1_oppblockpct', 'team1_oppfg2pct', 'team1_oppfg3pct',\n",
    "       'team1_oppftpct', 'team1_oppstlrate', 'team1_pt_career_overall_losses',\n",
    "       'team1_pt_career_school_wins', 'team1_pt_overall_ncaa',\n",
    "       'team1_pt_school_ncaa', 'team1_pt_team_season_losses',\n",
    "       'team1_pt_team_season_wins', 'team1_rpi_rating',\n",
    "       'team1_seed', 'team1_stlrate', 'team2_adjde', 'team2_adjoe',\n",
    "       'team2_adjtempo', 'team2_arate', 'team2_blockpct', 'team2_f3grate',\n",
    "       'team2_fg2pct', 'team2_fg3pct', 'team2_ftpct', 'team2_id',\n",
    "       'team2_opparate', 'team2_oppblockpct', 'team2_oppf3grate',\n",
    "       'team2_oppfg2pct', 'team2_oppfg3pct', 'team2_oppftpct',\n",
    "       'team2_oppstlrate', 'team2_pt_career_overall_losses',\n",
    "       'team2_pt_career_school_wins', 'team2_pt_overall_ncaa',\n",
    "       'team2_pt_school_ncaa', 'team2_pt_team_season_losses',\n",
    "       'team2_pt_team_season_wins', 'team2_rpi_rating',\n",
    "       'team2_seed', 'team2_stlrate','host_lat', 'host_long', 'team1_lat', 'team1_long', 'team2_lat','team2_long',\n",
    "           'team1_seed', 'team2_seed']]"
   ]
  },
  {
   "cell_type": "code",
   "execution_count": 5,
   "metadata": {
    "collapsed": true
   },
   "outputs": [],
   "source": [
    "elo2017=pd.read_csv(\"D:/FORDHAM/March Madness/data/2001ELO.csv\")\n",
    "\n",
    "team_elos = dict()\n",
    "for index, row in elo2017.iterrows():\n",
    "    team_elos[row['team_id']] = row['team_elo']"
   ]
  },
  {
   "cell_type": "code",
   "execution_count": 6,
   "metadata": {
    "collapsed": true
   },
   "outputs": [],
   "source": [
    "def get_elo(team_id):\n",
    "    try:\n",
    "        return team_elos[team_id]\n",
    "    except:\n",
    "        # base_elo\n",
    "        team_elos[team_id] = 1500\n",
    "        return team_elos[team_id]\n",
    "\n",
    "def calc_elo(wteamid, lteamid):\n",
    "    winner_rank = get_elo(wteamid)\n",
    "    loser_rank = get_elo(lteamid)\n",
    "\n",
    "    rank_diff = winner_rank - loser_rank\n",
    "    exp = (rank_diff  * -1) / 400\n",
    "    odds = 1 / (1 + math.pow(10, exp))\n",
    "    # \n",
    "    if winner_rank < 2030:\n",
    "        k = 32\n",
    "    elif winner_rank >= 2030 and winner_rank < 2130:\n",
    "        k = 24\n",
    "    else:\n",
    "        k = 16\n",
    "    new_winner_rank = round(winner_rank + (k * (1 - odds)))\n",
    "    new_rank_diff = new_winner_rank - winner_rank\n",
    "    new_loser_rank = loser_rank - new_rank_diff\n",
    "\n",
    "    return new_winner_rank, new_loser_rank"
   ]
  },
  {
   "cell_type": "code",
   "execution_count": 7,
   "metadata": {
    "collapsed": true
   },
   "outputs": [],
   "source": [
    "MMuse = data[['game_id','team1_id', 'team2_id', 'result', 'team1_adjoe','team2_adjoe', 'team1_adjde', 'team2_adjde',\n",
    "             'host_lat', 'host_long', 'team1_lat', 'team1_long', 'team2_lat','team2_long', 'team1_pt_career_school_wins',\n",
    "             'team1_seed', 'team2_seed']]"
   ]
  },
  {
   "cell_type": "code",
   "execution_count": 8,
   "metadata": {
    "collapsed": true
   },
   "outputs": [],
   "source": [
    "team1_nelo=list()\n",
    "team2_nelo=list()\n",
    "\n",
    "i=0\n",
    "for index, row in MM2.iterrows():\n",
    "    if row['result'] == 1: \n",
    "        wteam = row['team1_id']\n",
    "        lteam = row['team2_id']\n",
    "        new_team1_rank, new_team2_rank = calc_elo(wteam, lteam)\n",
    "    else:\n",
    "        wteam = row['team2_id']\n",
    "        lteam = row['team1_id']\n",
    "        new_team2_rank, new_team1_rank = calc_elo(wteam, lteam)\n",
    "    i=i+1\n",
    "    team_elos[row['team1_id']] = new_team1_rank\n",
    "    team_elos[row['team2_id']] = new_team2_rank\n",
    "    team1_nelo.append(new_team1_rank)\n",
    "    team2_nelo.append(new_team2_rank)"
   ]
  },
  {
   "cell_type": "code",
   "execution_count": 9,
   "metadata": {
    "collapsed": true
   },
   "outputs": [],
   "source": [
    "data ={'game_id':MM2['game_id'], 'team1_nelo': team1_nelo, 'team2_nelo':team2_nelo, 'team1_id':MM2['team1_id'],\n",
    "      'team2_id':MM2['team2_id'], 'result':MM2['result'], 'team1_pt_career_school_wins':MM2['team1_pt_career_school_wins'],\n",
    "       'team1_adjoe':MM2['team1_adjoe'],'team2_adjoe':MM2['team2_adjoe'], 'team1_adjde':MM2['team1_adjde'], \n",
    "       'team2_adjde':MM2['team2_adjde'],'host_lat':MM2['host_lat'], 'host_long':MM2['host_long'], 'team1_lat':MMuse['team1_lat'], \n",
    "       'team1_long':MMuse['team1_long'], 'team2_lat':MMuse['team2_lat'],'team2_long':MMuse['team2_long'], 'team1_seed':MMuse['team1_seed'],\n",
    "       'team2_seed':MMuse['team2_seed']}\n",
    "type (data)\n",
    "MMuse = pd.DataFrame(data)"
   ]
  },
  {
   "cell_type": "code",
   "execution_count": 10,
   "metadata": {
    "collapsed": true
   },
   "outputs": [],
   "source": [
    "# calcylate difference\n",
    "from math import sin, cos, sqrt, atan2, radians\n",
    "# define the function distance\n",
    "def distance(lat1, lon1, lat2, lon2):\n",
    "\n",
    "    # approximate radius of earth in km\n",
    "    R = 6373.0\n",
    "\n",
    "    lat1 = radians(lat1)\n",
    "    lon1 = radians(lon1)\n",
    "    lat2 = radians(lat2)\n",
    "    lon2 = radians(lon2)\n",
    "\n",
    "    dlon = lon2 - lon1\n",
    "    dlat = lat2 - lat1\n",
    "\n",
    "    a = sin(dlat / 2)**2 + cos(lat1) * cos(lat2) * sin(dlon / 2)**2\n",
    "    c = 2 * atan2(sqrt(a), sqrt(1 - a))\n",
    "\n",
    "    distance = R * c\n",
    "    \n",
    "    return distance\n"
   ]
  },
  {
   "cell_type": "code",
   "execution_count": 11,
   "metadata": {
    "collapsed": true
   },
   "outputs": [],
   "source": [
    "# read the data\n",
    "MMuse['dist1'] = MMuse.apply(lambda row: distance(row['host_lat'], row['host_long'], row['team1_lat'], row['team1_long']), axis=1)\n",
    "MMuse['dist2'] = MMuse.apply(lambda row: distance(row['host_lat'], row['host_long'], row['team2_lat'], row['team2_long']), axis=1)\n",
    "\n",
    "MMuse['diff_dist'] = MMuse['dist1'] - MMuse['dist2']"
   ]
  },
  {
   "cell_type": "code",
   "execution_count": 12,
   "metadata": {},
   "outputs": [
    {
     "data": {
      "text/plain": [
       "Index(['game_id', 'host_lat', 'host_long', 'result', 'team1_adjde',\n",
       "       'team1_adjoe', 'team1_id', 'team1_lat', 'team1_long', 'team1_nelo',\n",
       "       'team1_pt_career_school_wins', 'team1_seed', 'team2_adjde',\n",
       "       'team2_adjoe', 'team2_id', 'team2_lat', 'team2_long', 'team2_nelo',\n",
       "       'team2_seed', 'dist1', 'dist2', 'diff_dist'],\n",
       "      dtype='object')"
      ]
     },
     "execution_count": 12,
     "metadata": {},
     "output_type": "execute_result"
    }
   ],
   "source": [
    "MMuse.columns"
   ]
  },
  {
   "cell_type": "code",
   "execution_count": 19,
   "metadata": {
    "collapsed": true
   },
   "outputs": [],
   "source": [
    "MMlive_elo = MMuse[['game_id', 'result', 'team1_adjde',\n",
    "       'team1_adjoe', 'team1_id', 'team1_nelo', 'team1_pt_career_school_wins', 'team1_seed', 'team2_adjde',\n",
    "       'team2_adjoe', 'team2_id','team2_nelo','team2_seed', 'dist1', 'dist2', 'diff_dist']]\n",
    "MMlive_elo.to_csv(\"D:/FORDHAM/March Madness/data/MMlive_elo2.csv\")"
   ]
  },
  {
   "cell_type": "code",
   "execution_count": 13,
   "metadata": {},
   "outputs": [
    {
     "data": {
      "text/plain": [
       "Index(['team2_nnelo', 'team1_nnelo', 'game_id', 'result', 'team1_adjde',\n",
       "       'team1_adjoe', 'team1_id', 'team1_nelo', 'team1_pt_career_school_wins',\n",
       "       'team1_seed', 'team2_adjde', 'team2_adjoe', 'team2_id', 'team2_nelo',\n",
       "       'team2_seed', 'dist1', 'dist2', 'diff_dist'],\n",
       "      dtype='object')"
      ]
     },
     "execution_count": 13,
     "metadata": {},
     "output_type": "execute_result"
    }
   ],
   "source": [
    "data = pd.read_csv(\"D:/FORDHAM/March Madness/data/MMlive_elo2002_2017.csv\")\n",
    "data.columns"
   ]
  },
  {
   "cell_type": "code",
   "execution_count": 14,
   "metadata": {
    "collapsed": true
   },
   "outputs": [],
   "source": [
    "MMuse = data[['team1_nnelo', 'team2_nnelo', 'team1_id', 'team1_nelo',\n",
    "       'team1_pt_career_school_wins', 'team1_seed', 'team2_adjde',\n",
    "       'team2_adjoe', 'team2_id', 'team2_nelo', 'team2_seed', 'diff_dist',\n",
    "       'game_id', 'result', 'team1_adjde', 'team1_adjoe']]"
   ]
  },
  {
   "cell_type": "markdown",
   "metadata": {},
   "source": [
    "# Logistic Model with 6 variables+diff_dist"
   ]
  },
  {
   "cell_type": "code",
   "execution_count": 15,
   "metadata": {
    "collapsed": true
   },
   "outputs": [],
   "source": [
    "scaler = StandardScaler()\n",
    "mm_train_scaled = scaler.fit_transform(MMuse[['team1_nnelo','team2_nnelo','team1_adjoe','team2_adjoe', 'team1_adjde', 'team2_adjde','diff_dist']])\n",
    "logit = LogisticRegression()\n",
    "smlogit = logit.fit(mm_train_scaled, MMuse['result'])"
   ]
  },
  {
   "cell_type": "code",
   "execution_count": 16,
   "metadata": {},
   "outputs": [
    {
     "name": "stdout",
     "output_type": "stream",
     "text": [
      "Optimization terminated successfully.\n",
      "         Current function value: 0.524832\n",
      "         Iterations 6\n"
     ]
    },
    {
     "data": {
      "text/html": [
       "<table class=\"simpletable\">\n",
       "<caption>Logit Regression Results</caption>\n",
       "<tr>\n",
       "  <th>Dep. Variable:</th>      <td>result</td>      <th>  No. Observations:  </th>  <td>  1041</td>  \n",
       "</tr>\n",
       "<tr>\n",
       "  <th>Model:</th>               <td>Logit</td>      <th>  Df Residuals:      </th>  <td>  1034</td>  \n",
       "</tr>\n",
       "<tr>\n",
       "  <th>Method:</th>               <td>MLE</td>       <th>  Df Model:          </th>  <td>     6</td>  \n",
       "</tr>\n",
       "<tr>\n",
       "  <th>Date:</th>          <td>Sat, 17 Mar 2018</td> <th>  Pseudo R-squ.:     </th>  <td>0.2418</td>  \n",
       "</tr>\n",
       "<tr>\n",
       "  <th>Time:</th>              <td>20:53:53</td>     <th>  Log-Likelihood:    </th> <td> -546.35</td> \n",
       "</tr>\n",
       "<tr>\n",
       "  <th>converged:</th>           <td>True</td>       <th>  LL-Null:           </th> <td> -720.59</td> \n",
       "</tr>\n",
       "<tr>\n",
       "  <th> </th>                      <td> </td>        <th>  LLR p-value:       </th> <td>3.262e-72</td>\n",
       "</tr>\n",
       "</table>\n",
       "<table class=\"simpletable\">\n",
       "<tr>\n",
       "       <td></td>          <th>coef</th>     <th>std err</th>      <th>z</th>      <th>P>|z|</th>  <th>[0.025</th>    <th>0.975]</th>  \n",
       "</tr>\n",
       "<tr>\n",
       "  <th>team1_nnelo</th> <td>    0.0005</td> <td>    0.000</td> <td>    0.942</td> <td> 0.346</td> <td>   -0.000</td> <td>    0.001</td>\n",
       "</tr>\n",
       "<tr>\n",
       "  <th>team2_nnelo</th> <td>   -0.0016</td> <td>    0.000</td> <td>   -3.325</td> <td> 0.001</td> <td>   -0.003</td> <td>   -0.001</td>\n",
       "</tr>\n",
       "<tr>\n",
       "  <th>team1_adjoe</th> <td>    0.1315</td> <td>    0.017</td> <td>    7.758</td> <td> 0.000</td> <td>    0.098</td> <td>    0.165</td>\n",
       "</tr>\n",
       "<tr>\n",
       "  <th>team2_adjoe</th> <td>   -0.0854</td> <td>    0.016</td> <td>   -5.234</td> <td> 0.000</td> <td>   -0.117</td> <td>   -0.053</td>\n",
       "</tr>\n",
       "<tr>\n",
       "  <th>team1_adjde</th> <td>   -0.1391</td> <td>    0.018</td> <td>   -7.923</td> <td> 0.000</td> <td>   -0.173</td> <td>   -0.105</td>\n",
       "</tr>\n",
       "<tr>\n",
       "  <th>team2_adjde</th> <td>    0.1061</td> <td>    0.017</td> <td>    6.166</td> <td> 0.000</td> <td>    0.072</td> <td>    0.140</td>\n",
       "</tr>\n",
       "<tr>\n",
       "  <th>diff_dist</th>   <td>   -0.0001</td> <td> 6.37e-05</td> <td>   -1.644</td> <td> 0.100</td> <td>   -0.000</td> <td> 2.01e-05</td>\n",
       "</tr>\n",
       "</table>"
      ],
      "text/plain": [
       "<class 'statsmodels.iolib.summary.Summary'>\n",
       "\"\"\"\n",
       "                           Logit Regression Results                           \n",
       "==============================================================================\n",
       "Dep. Variable:                 result   No. Observations:                 1041\n",
       "Model:                          Logit   Df Residuals:                     1034\n",
       "Method:                           MLE   Df Model:                            6\n",
       "Date:                Sat, 17 Mar 2018   Pseudo R-squ.:                  0.2418\n",
       "Time:                        20:53:53   Log-Likelihood:                -546.35\n",
       "converged:                       True   LL-Null:                       -720.59\n",
       "                                        LLR p-value:                 3.262e-72\n",
       "===============================================================================\n",
       "                  coef    std err          z      P>|z|      [0.025      0.975]\n",
       "-------------------------------------------------------------------------------\n",
       "team1_nnelo     0.0005      0.000      0.942      0.346      -0.000       0.001\n",
       "team2_nnelo    -0.0016      0.000     -3.325      0.001      -0.003      -0.001\n",
       "team1_adjoe     0.1315      0.017      7.758      0.000       0.098       0.165\n",
       "team2_adjoe    -0.0854      0.016     -5.234      0.000      -0.117      -0.053\n",
       "team1_adjde    -0.1391      0.018     -7.923      0.000      -0.173      -0.105\n",
       "team2_adjde     0.1061      0.017      6.166      0.000       0.072       0.140\n",
       "diff_dist      -0.0001   6.37e-05     -1.644      0.100      -0.000    2.01e-05\n",
       "===============================================================================\n",
       "\"\"\""
      ]
     },
     "execution_count": 16,
     "metadata": {},
     "output_type": "execute_result"
    }
   ],
   "source": [
    "smlogit = sm.Logit(MMuse['result'], MMuse[['team1_nnelo','team2_nnelo','team1_adjoe','team2_adjoe', 'team1_adjde', 'team2_adjde','diff_dist']]).fit()\n",
    "smlogit.summary()"
   ]
  },
  {
   "cell_type": "code",
   "execution_count": 18,
   "metadata": {},
   "outputs": [],
   "source": [
    "MMuse['preds2'] = logit.predict_proba(scaler.fit_transform(MMuse[['team1_nnelo','team2_nnelo', 'team1_adjoe','team2_adjoe',\n",
    "                                                                'team1_adjde', 'team2_adjde','diff_dist']]))[:,1]\n",
    "MMuse['prediction'] = logit.predict(scaler.fit_transform(MMuse[['team1_nnelo','team2_nnelo','team1_adjoe','team2_adjoe',\n",
    "                                                                'team1_adjde', 'team2_adjde', 'diff_dist']]))"
   ]
  },
  {
   "cell_type": "code",
   "execution_count": 19,
   "metadata": {},
   "outputs": [
    {
     "data": {
      "text/plain": [
       "0.72526416906820368"
      ]
     },
     "execution_count": 19,
     "metadata": {},
     "output_type": "execute_result"
    }
   ],
   "source": [
    "accuracy_score(MMuse['result'], MMuse['prediction'],)"
   ]
  },
  {
   "cell_type": "code",
   "execution_count": 20,
   "metadata": {},
   "outputs": [
    {
     "data": {
      "text/plain": [
       "0.52471766782592799"
      ]
     },
     "execution_count": 20,
     "metadata": {},
     "output_type": "execute_result"
    }
   ],
   "source": [
    "log_loss(MMuse['result'].values, MMuse['preds2'].values)"
   ]
  },
  {
   "cell_type": "code",
   "execution_count": 21,
   "metadata": {},
   "outputs": [
    {
     "data": {
      "text/plain": [
       "0.7205510482398354"
      ]
     },
     "execution_count": 21,
     "metadata": {},
     "output_type": "execute_result"
    }
   ],
   "source": [
    "scores = cross_val_score(logit, mm_train_scaled, MMuse['result'], cv=5)\n",
    "scores   \n",
    "scores.mean()"
   ]
  },
  {
   "cell_type": "markdown",
   "metadata": {},
   "source": [
    "# Logistic Model with 6 variables + team1_pt_career_school_wins"
   ]
  },
  {
   "cell_type": "code",
   "execution_count": 17,
   "metadata": {},
   "outputs": [
    {
     "data": {
      "text/plain": [
       "LogisticRegression(C=1.0, class_weight=None, dual=False, fit_intercept=True,\n",
       "          intercept_scaling=1, max_iter=100, multi_class='ovr', n_jobs=1,\n",
       "          penalty='l2', random_state=None, solver='liblinear', tol=0.0001,\n",
       "          verbose=0, warm_start=False)"
      ]
     },
     "execution_count": 17,
     "metadata": {},
     "output_type": "execute_result"
    }
   ],
   "source": [
    "scaler = StandardScaler()\n",
    "mm_train_scaled = scaler.fit_transform(MMuse[['team1_nnelo','team2_nnelo','team1_adjoe','team2_adjoe', 'team1_adjde', 'team2_adjde','team1_pt_career_school_wins']])\n",
    "logit = LogisticRegression()\n",
    "logit.fit(mm_train_scaled, MMuse['result'])"
   ]
  },
  {
   "cell_type": "code",
   "execution_count": 18,
   "metadata": {},
   "outputs": [
    {
     "name": "stdout",
     "output_type": "stream",
     "text": [
      "Optimization terminated successfully.\n",
      "         Current function value: 0.525887\n",
      "         Iterations 6\n"
     ]
    },
    {
     "data": {
      "text/html": [
       "<table class=\"simpletable\">\n",
       "<caption>Logit Regression Results</caption>\n",
       "<tr>\n",
       "  <th>Dep. Variable:</th>      <td>result</td>      <th>  No. Observations:  </th>  <td>  1041</td>  \n",
       "</tr>\n",
       "<tr>\n",
       "  <th>Model:</th>               <td>Logit</td>      <th>  Df Residuals:      </th>  <td>  1034</td>  \n",
       "</tr>\n",
       "<tr>\n",
       "  <th>Method:</th>               <td>MLE</td>       <th>  Df Model:          </th>  <td>     6</td>  \n",
       "</tr>\n",
       "<tr>\n",
       "  <th>Date:</th>          <td>Mon, 12 Mar 2018</td> <th>  Pseudo R-squ.:     </th>  <td>0.2403</td>  \n",
       "</tr>\n",
       "<tr>\n",
       "  <th>Time:</th>              <td>15:29:22</td>     <th>  Log-Likelihood:    </th> <td> -547.45</td> \n",
       "</tr>\n",
       "<tr>\n",
       "  <th>converged:</th>           <td>True</td>       <th>  LL-Null:           </th> <td> -720.59</td> \n",
       "</tr>\n",
       "<tr>\n",
       "  <th> </th>                      <td> </td>        <th>  LLR p-value:       </th> <td>9.655e-72</td>\n",
       "</tr>\n",
       "</table>\n",
       "<table class=\"simpletable\">\n",
       "<tr>\n",
       "               <td></td>                  <th>coef</th>     <th>std err</th>      <th>z</th>      <th>P>|z|</th>  <th>[0.025</th>    <th>0.975]</th>  \n",
       "</tr>\n",
       "<tr>\n",
       "  <th>team1_nnelo</th>                 <td>    0.0004</td> <td>    0.001</td> <td>    0.733</td> <td> 0.464</td> <td>   -0.001</td> <td>    0.001</td>\n",
       "</tr>\n",
       "<tr>\n",
       "  <th>team2_nnelo</th>                 <td>   -0.0016</td> <td>    0.000</td> <td>   -3.380</td> <td> 0.001</td> <td>   -0.003</td> <td>   -0.001</td>\n",
       "</tr>\n",
       "<tr>\n",
       "  <th>team1_adjoe</th>                 <td>    0.1317</td> <td>    0.017</td> <td>    7.732</td> <td> 0.000</td> <td>    0.098</td> <td>    0.165</td>\n",
       "</tr>\n",
       "<tr>\n",
       "  <th>team2_adjoe</th>                 <td>   -0.0852</td> <td>    0.016</td> <td>   -5.240</td> <td> 0.000</td> <td>   -0.117</td> <td>   -0.053</td>\n",
       "</tr>\n",
       "<tr>\n",
       "  <th>team1_adjde</th>                 <td>   -0.1406</td> <td>    0.018</td> <td>   -7.952</td> <td> 0.000</td> <td>   -0.175</td> <td>   -0.106</td>\n",
       "</tr>\n",
       "<tr>\n",
       "  <th>team2_adjde</th>                 <td>    0.1086</td> <td>    0.017</td> <td>    6.329</td> <td> 0.000</td> <td>    0.075</td> <td>    0.142</td>\n",
       "</tr>\n",
       "<tr>\n",
       "  <th>team1_pt_career_school_wins</th> <td>    0.0003</td> <td>    0.000</td> <td>    0.722</td> <td> 0.471</td> <td>   -0.000</td> <td>    0.001</td>\n",
       "</tr>\n",
       "</table>"
      ],
      "text/plain": [
       "<class 'statsmodels.iolib.summary.Summary'>\n",
       "\"\"\"\n",
       "                           Logit Regression Results                           \n",
       "==============================================================================\n",
       "Dep. Variable:                 result   No. Observations:                 1041\n",
       "Model:                          Logit   Df Residuals:                     1034\n",
       "Method:                           MLE   Df Model:                            6\n",
       "Date:                Mon, 12 Mar 2018   Pseudo R-squ.:                  0.2403\n",
       "Time:                        15:29:22   Log-Likelihood:                -547.45\n",
       "converged:                       True   LL-Null:                       -720.59\n",
       "                                        LLR p-value:                 9.655e-72\n",
       "===============================================================================================\n",
       "                                  coef    std err          z      P>|z|      [0.025      0.975]\n",
       "-----------------------------------------------------------------------------------------------\n",
       "team1_nnelo                     0.0004      0.001      0.733      0.464      -0.001       0.001\n",
       "team2_nnelo                    -0.0016      0.000     -3.380      0.001      -0.003      -0.001\n",
       "team1_adjoe                     0.1317      0.017      7.732      0.000       0.098       0.165\n",
       "team2_adjoe                    -0.0852      0.016     -5.240      0.000      -0.117      -0.053\n",
       "team1_adjde                    -0.1406      0.018     -7.952      0.000      -0.175      -0.106\n",
       "team2_adjde                     0.1086      0.017      6.329      0.000       0.075       0.142\n",
       "team1_pt_career_school_wins     0.0003      0.000      0.722      0.471      -0.000       0.001\n",
       "===============================================================================================\n",
       "\"\"\""
      ]
     },
     "execution_count": 18,
     "metadata": {},
     "output_type": "execute_result"
    }
   ],
   "source": [
    "smlogit = sm.Logit(MMuse['result'], MMuse[['team1_nnelo','team2_nnelo','team1_adjoe','team2_adjoe', 'team1_adjde', 'team2_adjde','team1_pt_career_school_wins']]).fit()\n",
    "smlogit.summary()"
   ]
  },
  {
   "cell_type": "code",
   "execution_count": 19,
   "metadata": {
    "collapsed": true
   },
   "outputs": [],
   "source": [
    "MMuse['preds'] = logit.predict_proba(scaler.fit_transform(MMuse[['team1_nnelo','team2_nnelo', 'team1_adjoe','team2_adjoe',\n",
    "                                                                'team1_adjde', 'team2_adjde','team1_pt_career_school_wins']]))[:,1]\n",
    "MMuse['prediction'] = logit.predict(scaler.fit_transform(MMuse[['team1_nnelo','team2_nnelo','team1_adjoe','team2_adjoe',\n",
    "                                                                'team1_adjde', 'team2_adjde', 'team1_pt_career_school_wins']]))"
   ]
  },
  {
   "cell_type": "code",
   "execution_count": 20,
   "metadata": {},
   "outputs": [
    {
     "data": {
      "text/plain": [
       "0.72334293948126804"
      ]
     },
     "execution_count": 20,
     "metadata": {},
     "output_type": "execute_result"
    }
   ],
   "source": [
    "accuracy_score(MMuse['result'], MMuse['prediction'],)"
   ]
  },
  {
   "cell_type": "code",
   "execution_count": 21,
   "metadata": {},
   "outputs": [
    {
     "data": {
      "text/plain": [
       "0.52581601828731328"
      ]
     },
     "execution_count": 21,
     "metadata": {},
     "output_type": "execute_result"
    }
   ],
   "source": [
    "log_loss(MMuse['result'].values, MMuse['preds'].values)"
   ]
  },
  {
   "cell_type": "markdown",
   "metadata": {},
   "source": [
    "# Logistic Model with 6 variables"
   ]
  },
  {
   "cell_type": "code",
   "execution_count": 71,
   "metadata": {},
   "outputs": [
    {
     "data": {
      "text/plain": [
       "LogisticRegression(C=1.0, class_weight=None, dual=False, fit_intercept=True,\n",
       "          intercept_scaling=1, max_iter=100, multi_class='ovr', n_jobs=1,\n",
       "          penalty='l2', random_state=None, solver='liblinear', tol=0.0001,\n",
       "          verbose=0, warm_start=False)"
      ]
     },
     "execution_count": 71,
     "metadata": {},
     "output_type": "execute_result"
    }
   ],
   "source": [
    "scaler = StandardScaler()\n",
    "mm_train_scaled = scaler.fit_transform(MMuse[['team1_nnelo','team2_nnelo','team1_adjoe','team2_adjoe', 'team1_adjde', 'team2_adjde']])\n",
    "logit = LogisticRegression()\n",
    "logit.fit(mm_train_scaled, MMuse['result'])"
   ]
  },
  {
   "cell_type": "code",
   "execution_count": 72,
   "metadata": {},
   "outputs": [
    {
     "name": "stdout",
     "output_type": "stream",
     "text": [
      "Optimization terminated successfully.\n",
      "         Current function value: 0.525887\n",
      "         Iterations 6\n"
     ]
    },
    {
     "data": {
      "text/html": [
       "<table class=\"simpletable\">\n",
       "<caption>Logit Regression Results</caption>\n",
       "<tr>\n",
       "  <th>Dep. Variable:</th>      <td>result</td>      <th>  No. Observations:  </th>  <td>  1041</td>  \n",
       "</tr>\n",
       "<tr>\n",
       "  <th>Model:</th>               <td>Logit</td>      <th>  Df Residuals:      </th>  <td>  1034</td>  \n",
       "</tr>\n",
       "<tr>\n",
       "  <th>Method:</th>               <td>MLE</td>       <th>  Df Model:          </th>  <td>     6</td>  \n",
       "</tr>\n",
       "<tr>\n",
       "  <th>Date:</th>          <td>Fri, 16 Mar 2018</td> <th>  Pseudo R-squ.:     </th>  <td>0.2403</td>  \n",
       "</tr>\n",
       "<tr>\n",
       "  <th>Time:</th>              <td>15:25:20</td>     <th>  Log-Likelihood:    </th> <td> -547.45</td> \n",
       "</tr>\n",
       "<tr>\n",
       "  <th>converged:</th>           <td>True</td>       <th>  LL-Null:           </th> <td> -720.59</td> \n",
       "</tr>\n",
       "<tr>\n",
       "  <th> </th>                      <td> </td>        <th>  LLR p-value:       </th> <td>9.655e-72</td>\n",
       "</tr>\n",
       "</table>\n",
       "<table class=\"simpletable\">\n",
       "<tr>\n",
       "               <td></td>                  <th>coef</th>     <th>std err</th>      <th>z</th>      <th>P>|z|</th>  <th>[0.025</th>    <th>0.975]</th>  \n",
       "</tr>\n",
       "<tr>\n",
       "  <th>team1_nnelo</th>                 <td>    0.0004</td> <td>    0.001</td> <td>    0.733</td> <td> 0.464</td> <td>   -0.001</td> <td>    0.001</td>\n",
       "</tr>\n",
       "<tr>\n",
       "  <th>team2_nnelo</th>                 <td>   -0.0016</td> <td>    0.000</td> <td>   -3.380</td> <td> 0.001</td> <td>   -0.003</td> <td>   -0.001</td>\n",
       "</tr>\n",
       "<tr>\n",
       "  <th>team1_adjoe</th>                 <td>    0.1317</td> <td>    0.017</td> <td>    7.732</td> <td> 0.000</td> <td>    0.098</td> <td>    0.165</td>\n",
       "</tr>\n",
       "<tr>\n",
       "  <th>team2_adjoe</th>                 <td>   -0.0852</td> <td>    0.016</td> <td>   -5.240</td> <td> 0.000</td> <td>   -0.117</td> <td>   -0.053</td>\n",
       "</tr>\n",
       "<tr>\n",
       "  <th>team1_adjde</th>                 <td>   -0.1406</td> <td>    0.018</td> <td>   -7.952</td> <td> 0.000</td> <td>   -0.175</td> <td>   -0.106</td>\n",
       "</tr>\n",
       "<tr>\n",
       "  <th>team2_adjde</th>                 <td>    0.1086</td> <td>    0.017</td> <td>    6.329</td> <td> 0.000</td> <td>    0.075</td> <td>    0.142</td>\n",
       "</tr>\n",
       "<tr>\n",
       "  <th>team1_pt_career_school_wins</th> <td>    0.0003</td> <td>    0.000</td> <td>    0.722</td> <td> 0.471</td> <td>   -0.000</td> <td>    0.001</td>\n",
       "</tr>\n",
       "</table>"
      ],
      "text/plain": [
       "<class 'statsmodels.iolib.summary.Summary'>\n",
       "\"\"\"\n",
       "                           Logit Regression Results                           \n",
       "==============================================================================\n",
       "Dep. Variable:                 result   No. Observations:                 1041\n",
       "Model:                          Logit   Df Residuals:                     1034\n",
       "Method:                           MLE   Df Model:                            6\n",
       "Date:                Fri, 16 Mar 2018   Pseudo R-squ.:                  0.2403\n",
       "Time:                        15:25:20   Log-Likelihood:                -547.45\n",
       "converged:                       True   LL-Null:                       -720.59\n",
       "                                        LLR p-value:                 9.655e-72\n",
       "===============================================================================================\n",
       "                                  coef    std err          z      P>|z|      [0.025      0.975]\n",
       "-----------------------------------------------------------------------------------------------\n",
       "team1_nnelo                     0.0004      0.001      0.733      0.464      -0.001       0.001\n",
       "team2_nnelo                    -0.0016      0.000     -3.380      0.001      -0.003      -0.001\n",
       "team1_adjoe                     0.1317      0.017      7.732      0.000       0.098       0.165\n",
       "team2_adjoe                    -0.0852      0.016     -5.240      0.000      -0.117      -0.053\n",
       "team1_adjde                    -0.1406      0.018     -7.952      0.000      -0.175      -0.106\n",
       "team2_adjde                     0.1086      0.017      6.329      0.000       0.075       0.142\n",
       "team1_pt_career_school_wins     0.0003      0.000      0.722      0.471      -0.000       0.001\n",
       "===============================================================================================\n",
       "\"\"\""
      ]
     },
     "execution_count": 72,
     "metadata": {},
     "output_type": "execute_result"
    }
   ],
   "source": [
    "smlogit = sm.Logit(MMuse['result'], MMuse[['team1_nnelo','team2_nnelo','team1_adjoe','team2_adjoe', 'team1_adjde', 'team2_adjde','team1_pt_career_school_wins']]).fit()\n",
    "smlogit.summary()"
   ]
  },
  {
   "cell_type": "code",
   "execution_count": 73,
   "metadata": {
    "collapsed": true
   },
   "outputs": [],
   "source": [
    "MMuse['preds2'] = logit.predict_proba(scaler.fit_transform(MMuse[['team1_nnelo','team2_nnelo', 'team1_adjoe','team2_adjoe',\n",
    "                                                                'team1_adjde', 'team2_adjde']]))[:,1]\n",
    "MMuse['prediction'] = logit.predict(scaler.fit_transform(MMuse[['team1_nnelo','team2_nnelo','team1_adjoe','team2_adjoe',\n",
    "                                                                'team1_adjde', 'team2_adjde']]))"
   ]
  },
  {
   "cell_type": "code",
   "execution_count": 74,
   "metadata": {},
   "outputs": [
    {
     "data": {
      "text/plain": [
       "0.72622478386167144"
      ]
     },
     "execution_count": 74,
     "metadata": {},
     "output_type": "execute_result"
    }
   ],
   "source": [
    "accuracy_score(MMuse['result'], MMuse['prediction'],)"
   ]
  },
  {
   "cell_type": "code",
   "execution_count": 75,
   "metadata": {},
   "outputs": [
    {
     "data": {
      "text/plain": [
       "0.52604379561686443"
      ]
     },
     "execution_count": 75,
     "metadata": {},
     "output_type": "execute_result"
    }
   ],
   "source": [
    "log_loss(MMuse['result'].values, MMuse['preds2'].values)"
   ]
  },
  {
   "cell_type": "code",
   "execution_count": 380,
   "metadata": {
    "collapsed": true
   },
   "outputs": [],
   "source": [
    "MMuse.to_csv('D:/FORDHAM/March Madness/data/output2012-2017.csv')"
   ]
  },
  {
   "cell_type": "markdown",
   "metadata": {},
   "source": [
    "#  NN with 6 variables + diff_dist"
   ]
  },
  {
   "cell_type": "code",
   "execution_count": 22,
   "metadata": {
    "collapsed": true
   },
   "outputs": [],
   "source": [
    "MMuse['result_str'] = MMuse['result'].astype(str)\n",
    "from sklearn.neural_network import MLPClassifier"
   ]
  },
  {
   "cell_type": "code",
   "execution_count": 23,
   "metadata": {},
   "outputs": [
    {
     "data": {
      "text/plain": [
       "MLPClassifier(activation='relu', alpha=0.0001, batch_size='auto', beta_1=0.9,\n",
       "       beta_2=0.999, early_stopping=False, epsilon=1e-08,\n",
       "       hidden_layer_sizes=(100,), learning_rate='constant',\n",
       "       learning_rate_init=0.001, max_iter=200, momentum=0.9,\n",
       "       nesterovs_momentum=True, power_t=0.5, random_state=None,\n",
       "       shuffle=True, solver='adam', tol=0.0001, validation_fraction=0.1,\n",
       "       verbose=False, warm_start=False)"
      ]
     },
     "execution_count": 23,
     "metadata": {},
     "output_type": "execute_result"
    }
   ],
   "source": [
    "scaler = StandardScaler()\n",
    "mm_train_scaled = scaler.fit_transform(MMuse[['team1_nnelo','team2_nnelo','team1_adjoe','team2_adjoe', 'team1_adjde', 'team2_adjde', 'diff_dist']])\n",
    "NN = MLPClassifier()\n",
    "NN.fit(mm_train_scaled, MMuse['result_str'])         "
   ]
  },
  {
   "cell_type": "code",
   "execution_count": 24,
   "metadata": {
    "collapsed": true
   },
   "outputs": [],
   "source": [
    "MMuse['preds3'] = NN.predict_proba(scaler.fit_transform(MMuse[['team1_nnelo','team2_nnelo', 'team1_adjoe','team2_adjoe',\n",
    "                                                                'team1_adjde', 'team2_adjde', 'diff_dist']]))[:,1]\n",
    "MMuse['prediction'] = NN.predict(scaler.fit_transform(MMuse[['team1_nnelo','team2_nnelo', 'team1_adjoe','team2_adjoe',\n",
    "                                                                'team1_adjde', 'team2_adjde', 'diff_dist']]))"
   ]
  },
  {
   "cell_type": "code",
   "execution_count": 25,
   "metadata": {},
   "outputs": [
    {
     "data": {
      "text/plain": [
       "0.74063400576368876"
      ]
     },
     "execution_count": 25,
     "metadata": {},
     "output_type": "execute_result"
    }
   ],
   "source": [
    "accuracy_score(MMuse['result_str'], MMuse['prediction'],)"
   ]
  },
  {
   "cell_type": "code",
   "execution_count": 26,
   "metadata": {},
   "outputs": [
    {
     "data": {
      "text/plain": [
       "0.50634364649340835"
      ]
     },
     "execution_count": 26,
     "metadata": {},
     "output_type": "execute_result"
    }
   ],
   "source": [
    "log_loss(MMuse['result_str'].values, MMuse['preds3'].values)"
   ]
  },
  {
   "cell_type": "code",
   "execution_count": 67,
   "metadata": {
    "collapsed": true
   },
   "outputs": [],
   "source": [
    "MMuse.to_csv('D:/FORDHAM/March Madness/data/2002-2017_result.csv')"
   ]
  },
  {
   "cell_type": "code",
   "execution_count": 177,
   "metadata": {},
   "outputs": [
    {
     "data": {
      "text/plain": [
       "2278"
      ]
     },
     "execution_count": 177,
     "metadata": {},
     "output_type": "execute_result"
    }
   ],
   "source": [
    "len(data)"
   ]
  },
  {
   "cell_type": "code",
   "execution_count": 27,
   "metadata": {},
   "outputs": [
    {
     "data": {
      "text/plain": [
       "Index(['game_id', 'team1_id', 'team2_id', 'season', 'team1_seed', 'team2_seed',\n",
       "       'team1_position', 'team2_position', 'strongseed', 'weakseed',\n",
       "       'team1_region', 'team2_region', 'slot', 'host', 'host_lat', 'host_long',\n",
       "       'team1_name', 'team2_name', 'team1_rpi_rating', 'team2_rpi_rating',\n",
       "       'team1_fg2pct', 'team1_fg3pct', 'team1_ftpct', 'team1_blockpct',\n",
       "       'team1_oppfg2pct', 'team1_oppfg3pct', 'team1_oppftpct',\n",
       "       'team1_oppblockpct', 'team1_fg3rate', 'team1_oppfg3rate', 'team1_arate',\n",
       "       'team1_opparate', 'team1_stlrate', 'team1_oppstlrate', 'team2_fg2pct',\n",
       "       'team2_fg3pct', 'team2_ftpct', 'team2_blockpct', 'team2_oppfg2pct',\n",
       "       'team2_oppfg3pct', 'team2_oppftpct', 'team2_oppblockpct',\n",
       "       'team2_fg3rate', 'team2_oppfg3rate', 'team2_arate', 'team2_opparate',\n",
       "       'team2_stlrate', 'team2_oppstlrate', 'team1_tempo', 'team1_adjtempo',\n",
       "       'team1_oe', 'team1_adjoe', 'team1_de', 'team1_adjde', 'team2_tempo',\n",
       "       'team2_adjtempo', 'team2_oe', 'team2_adjoe', 'team2_de', 'team2_adjde',\n",
       "       'team1_lat', 'team1_long', 'team2_lat', 'team2_long',\n",
       "       'team1_coaches_preseason', 'team2_coaches_preseason',\n",
       "       'team1_coaches_before_final', 'team2_coaches_before_final',\n",
       "       'team1_ap_preseason', 'team2_ap_preseason', 'team1_ap_final',\n",
       "       'team2_ap_final'],\n",
       "      dtype='object')"
      ]
     },
     "execution_count": 27,
     "metadata": {},
     "output_type": "execute_result"
    }
   ],
   "source": [
    "data = pd.read_csv(\"D:/FORDHAM/March Madness/data/NCAA_Tourney_2018.csv\")\n",
    "data.columns"
   ]
  },
  {
   "cell_type": "code",
   "execution_count": 189,
   "metadata": {},
   "outputs": [
    {
     "data": {
      "text/plain": [
       "2278"
      ]
     },
     "execution_count": 189,
     "metadata": {},
     "output_type": "execute_result"
    }
   ],
   "source": [
    "len(data)"
   ]
  },
  {
   "cell_type": "code",
   "execution_count": 28,
   "metadata": {
    "collapsed": true
   },
   "outputs": [],
   "source": [
    "elo2017=pd.read_csv(\"D:/FORDHAM/March Madness/data/2017ELO.csv\")\n",
    "team_elos = dict()\n",
    "for index, row in elo2017.iterrows():\n",
    "    team_elos[row['team_id']] = row['team_elo']"
   ]
  },
  {
   "cell_type": "code",
   "execution_count": 195,
   "metadata": {},
   "outputs": [
    {
     "data": {
      "text/plain": [
       "2142"
      ]
     },
     "execution_count": 195,
     "metadata": {},
     "output_type": "execute_result"
    }
   ],
   "source": [
    "a=1437\n",
    "team_elos[a]"
   ]
  },
  {
   "cell_type": "code",
   "execution_count": 29,
   "metadata": {},
   "outputs": [
    {
     "name": "stdout",
     "output_type": "stream",
     "text": [
      "2278 2278 2278\n"
     ]
    }
   ],
   "source": [
    "team1_nelo=list()\n",
    "team2_nelo=list()\n",
    "i=0\n",
    "for index, row in data.iterrows():\n",
    "    i=i+1\n",
    "    try: \n",
    "        team1_nelo.append(team_elos[row['team1_id']])\n",
    "        team2_nelo.append(team_elos[row['team2_id']])\n",
    "    except:\n",
    "        team1_nelo.append(1500)\n",
    "        team2_nelo.append(1500)\n",
    "print (i, len(team1_nelo), len(team2_nelo))"
   ]
  },
  {
   "cell_type": "code",
   "execution_count": 30,
   "metadata": {
    "collapsed": true
   },
   "outputs": [],
   "source": [
    "MM2018 ={'game_id':data['game_id'], 'team1_nelo': team1_nelo, 'team2_nelo':team2_nelo, 'team1_id':data['team1_id'],\n",
    "      'team2_id':data['team2_id'], 'team1_adjoe':data['team1_adjoe'],'team2_adjoe':data['team2_adjoe'], 'team1_adjde':data['team1_adjde'], \n",
    "       'team2_adjde':data['team2_adjde'],'host_lat':data['host_lat'], 'host_long':data['host_long'], 'team1_lat':data['team1_lat'], \n",
    "       'team1_long':data['team1_long'], 'team2_lat':data['team2_lat'],'team2_long':data['team2_long']}"
   ]
  },
  {
   "cell_type": "code",
   "execution_count": 31,
   "metadata": {
    "collapsed": true
   },
   "outputs": [],
   "source": [
    "MM2018 = pd.DataFrame(MM2018)"
   ]
  },
  {
   "cell_type": "code",
   "execution_count": 32,
   "metadata": {
    "collapsed": true
   },
   "outputs": [],
   "source": [
    "MM2018['dist1'] = MM2018.apply(lambda row: distance(row['host_lat'], row['host_long'], row['team1_lat'], row['team1_long']), axis=1)\n",
    "MM2018['dist2'] = MM2018.apply(lambda row: distance(row['host_lat'], row['host_long'], row['team2_lat'], row['team2_long']), axis=1)\n",
    "\n",
    "MM2018['diff_dist'] = MM2018['dist1'] - MM2018['dist2']"
   ]
  },
  {
   "cell_type": "code",
   "execution_count": 33,
   "metadata": {
    "collapsed": true
   },
   "outputs": [],
   "source": [
    "MM2018['team1_name'] = data['team1_name']\n",
    "MM2018['team2_name'] = data['team2_name']"
   ]
  },
  {
   "cell_type": "code",
   "execution_count": 34,
   "metadata": {},
   "outputs": [
    {
     "data": {
      "text/html": [
       "<div>\n",
       "<style>\n",
       "    .dataframe thead tr:only-child th {\n",
       "        text-align: right;\n",
       "    }\n",
       "\n",
       "    .dataframe thead th {\n",
       "        text-align: left;\n",
       "    }\n",
       "\n",
       "    .dataframe tbody tr th {\n",
       "        vertical-align: top;\n",
       "    }\n",
       "</style>\n",
       "<table border=\"1\" class=\"dataframe\">\n",
       "  <thead>\n",
       "    <tr style=\"text-align: right;\">\n",
       "      <th></th>\n",
       "      <th>game_id</th>\n",
       "      <th>host_lat</th>\n",
       "      <th>host_long</th>\n",
       "      <th>team1_adjde</th>\n",
       "      <th>team1_adjoe</th>\n",
       "      <th>team1_id</th>\n",
       "      <th>team1_lat</th>\n",
       "      <th>team1_long</th>\n",
       "      <th>team1_nelo</th>\n",
       "      <th>team2_adjde</th>\n",
       "      <th>team2_adjoe</th>\n",
       "      <th>team2_id</th>\n",
       "      <th>team2_lat</th>\n",
       "      <th>team2_long</th>\n",
       "      <th>team2_nelo</th>\n",
       "      <th>dist1</th>\n",
       "      <th>dist2</th>\n",
       "      <th>diff_dist</th>\n",
       "      <th>team1_name</th>\n",
       "      <th>team2_name</th>\n",
       "    </tr>\n",
       "  </thead>\n",
       "  <tbody>\n",
       "    <tr>\n",
       "      <th>0</th>\n",
       "      <td>2018-1437-1345</td>\n",
       "      <td>42.3601</td>\n",
       "      <td>-71.0589</td>\n",
       "      <td>99.9</td>\n",
       "      <td>122.8</td>\n",
       "      <td>1437</td>\n",
       "      <td>40.039388</td>\n",
       "      <td>-75.345457</td>\n",
       "      <td>2142</td>\n",
       "      <td>96.7</td>\n",
       "      <td>118.5</td>\n",
       "      <td>1345</td>\n",
       "      <td>40.428206</td>\n",
       "      <td>-86.914435</td>\n",
       "      <td>1932</td>\n",
       "      <td>441.868828</td>\n",
       "      <td>1338.323024</td>\n",
       "      <td>-896.454196</td>\n",
       "      <td>Villanova</td>\n",
       "      <td>Purdue</td>\n",
       "    </tr>\n",
       "    <tr>\n",
       "      <th>1</th>\n",
       "      <td>2018-1437-1403</td>\n",
       "      <td>42.3601</td>\n",
       "      <td>-71.0589</td>\n",
       "      <td>99.9</td>\n",
       "      <td>122.8</td>\n",
       "      <td>1437</td>\n",
       "      <td>40.039388</td>\n",
       "      <td>-75.345457</td>\n",
       "      <td>2142</td>\n",
       "      <td>94.2</td>\n",
       "      <td>109.2</td>\n",
       "      <td>1403</td>\n",
       "      <td>33.580309</td>\n",
       "      <td>-101.876917</td>\n",
       "      <td>1888</td>\n",
       "      <td>441.868828</td>\n",
       "      <td>2854.475981</td>\n",
       "      <td>-2412.607153</td>\n",
       "      <td>Villanova</td>\n",
       "      <td>Texas Tech</td>\n",
       "    </tr>\n",
       "    <tr>\n",
       "      <th>2</th>\n",
       "      <td>2018-1437-1455</td>\n",
       "      <td>42.3601</td>\n",
       "      <td>-71.0589</td>\n",
       "      <td>99.9</td>\n",
       "      <td>122.8</td>\n",
       "      <td>1437</td>\n",
       "      <td>40.039388</td>\n",
       "      <td>-75.345457</td>\n",
       "      <td>2142</td>\n",
       "      <td>101.9</td>\n",
       "      <td>117.8</td>\n",
       "      <td>1455</td>\n",
       "      <td>37.716484</td>\n",
       "      <td>-97.296733</td>\n",
       "      <td>1972</td>\n",
       "      <td>441.868828</td>\n",
       "      <td>2283.488269</td>\n",
       "      <td>-1841.619441</td>\n",
       "      <td>Villanova</td>\n",
       "      <td>Wichita St</td>\n",
       "    </tr>\n",
       "    <tr>\n",
       "      <th>3</th>\n",
       "      <td>2018-1437-1452</td>\n",
       "      <td>42.3601</td>\n",
       "      <td>-71.0589</td>\n",
       "      <td>99.9</td>\n",
       "      <td>122.8</td>\n",
       "      <td>1437</td>\n",
       "      <td>40.039388</td>\n",
       "      <td>-75.345457</td>\n",
       "      <td>2142</td>\n",
       "      <td>98.5</td>\n",
       "      <td>113.0</td>\n",
       "      <td>1452</td>\n",
       "      <td>39.634680</td>\n",
       "      <td>-79.953926</td>\n",
       "      <td>1966</td>\n",
       "      <td>441.868828</td>\n",
       "      <td>805.408890</td>\n",
       "      <td>-363.540062</td>\n",
       "      <td>Villanova</td>\n",
       "      <td>West Virginia</td>\n",
       "    </tr>\n",
       "    <tr>\n",
       "      <th>4</th>\n",
       "      <td>2018-1437-1196</td>\n",
       "      <td>42.3601</td>\n",
       "      <td>-71.0589</td>\n",
       "      <td>99.9</td>\n",
       "      <td>122.8</td>\n",
       "      <td>1437</td>\n",
       "      <td>40.039388</td>\n",
       "      <td>-75.345457</td>\n",
       "      <td>2142</td>\n",
       "      <td>100.6</td>\n",
       "      <td>109.7</td>\n",
       "      <td>1196</td>\n",
       "      <td>29.638248</td>\n",
       "      <td>-82.361195</td>\n",
       "      <td>1946</td>\n",
       "      <td>441.868828</td>\n",
       "      <td>1739.142669</td>\n",
       "      <td>-1297.273841</td>\n",
       "      <td>Villanova</td>\n",
       "      <td>Florida</td>\n",
       "    </tr>\n",
       "  </tbody>\n",
       "</table>\n",
       "</div>"
      ],
      "text/plain": [
       "          game_id  host_lat  host_long  team1_adjde  team1_adjoe  team1_id  \\\n",
       "0  2018-1437-1345   42.3601   -71.0589         99.9        122.8      1437   \n",
       "1  2018-1437-1403   42.3601   -71.0589         99.9        122.8      1437   \n",
       "2  2018-1437-1455   42.3601   -71.0589         99.9        122.8      1437   \n",
       "3  2018-1437-1452   42.3601   -71.0589         99.9        122.8      1437   \n",
       "4  2018-1437-1196   42.3601   -71.0589         99.9        122.8      1437   \n",
       "\n",
       "   team1_lat  team1_long  team1_nelo  team2_adjde  team2_adjoe  team2_id  \\\n",
       "0  40.039388  -75.345457        2142         96.7        118.5      1345   \n",
       "1  40.039388  -75.345457        2142         94.2        109.2      1403   \n",
       "2  40.039388  -75.345457        2142        101.9        117.8      1455   \n",
       "3  40.039388  -75.345457        2142         98.5        113.0      1452   \n",
       "4  40.039388  -75.345457        2142        100.6        109.7      1196   \n",
       "\n",
       "   team2_lat  team2_long  team2_nelo       dist1        dist2    diff_dist  \\\n",
       "0  40.428206  -86.914435        1932  441.868828  1338.323024  -896.454196   \n",
       "1  33.580309 -101.876917        1888  441.868828  2854.475981 -2412.607153   \n",
       "2  37.716484  -97.296733        1972  441.868828  2283.488269 -1841.619441   \n",
       "3  39.634680  -79.953926        1966  441.868828   805.408890  -363.540062   \n",
       "4  29.638248  -82.361195        1946  441.868828  1739.142669 -1297.273841   \n",
       "\n",
       "  team1_name     team2_name  \n",
       "0  Villanova         Purdue  \n",
       "1  Villanova     Texas Tech  \n",
       "2  Villanova     Wichita St  \n",
       "3  Villanova  West Virginia  \n",
       "4  Villanova        Florida  "
      ]
     },
     "execution_count": 34,
     "metadata": {},
     "output_type": "execute_result"
    }
   ],
   "source": [
    "MM2018.head()"
   ]
  },
  {
   "cell_type": "code",
   "execution_count": 35,
   "metadata": {
    "collapsed": true
   },
   "outputs": [],
   "source": [
    "MM2018['preds'] = NN.predict_proba(scaler.fit_transform(MM2018[['team1_nelo','team2_nelo', 'team1_adjoe','team2_adjoe',\n",
    "                                                                'team1_adjde', 'team2_adjde', 'diff_dist']]))[:,1]\n",
    "MM2018['prediction'] = NN.predict(scaler.fit_transform(MM2018[['team1_nelo','team2_nelo', 'team1_adjoe','team2_adjoe',\n",
    "                                                                'team1_adjde', 'team2_adjde', 'diff_dist']]))"
   ]
  },
  {
   "cell_type": "code",
   "execution_count": 204,
   "metadata": {
    "collapsed": true
   },
   "outputs": [],
   "source": [
    "MM2018.to_csv('D:/FORDHAM/March Madness/data/Berserker_resultv2.csv')"
   ]
  },
  {
   "cell_type": "code",
   "execution_count": 245,
   "metadata": {},
   "outputs": [
    {
     "data": {
      "text/plain": [
       "Index(['game_id', 'host_lat', 'host_long', 'team1_adjde', 'team1_adjoe',\n",
       "       'team1_id', 'team1_lat', 'team1_long', 'team1_nelo', 'team2_adjde',\n",
       "       'team2_adjoe', 'team2_id', 'team2_lat', 'team2_long', 'team2_nelo',\n",
       "       'dist1', 'dist2', 'diff_dist', 'team1_name', 'team2_name', 'preds',\n",
       "       'prediction'],\n",
       "      dtype='object')"
      ]
     },
     "execution_count": 245,
     "metadata": {},
     "output_type": "execute_result"
    }
   ],
   "source": [
    "#MMuse.to_csv('D:/FORDHAM/March Madness/data/roc.csv')\n",
    "MM2018.columns"
   ]
  },
  {
   "cell_type": "code",
   "execution_count": 37,
   "metadata": {},
   "outputs": [],
   "source": [
    "round1id=pd.read_csv(\"D:/FORDHAM/March Madness/data/round1id.csv\")"
   ]
  },
  {
   "cell_type": "code",
   "execution_count": 39,
   "metadata": {},
   "outputs": [
    {
     "data": {
      "text/html": [
       "<div>\n",
       "<style>\n",
       "    .dataframe thead tr:only-child th {\n",
       "        text-align: right;\n",
       "    }\n",
       "\n",
       "    .dataframe thead th {\n",
       "        text-align: left;\n",
       "    }\n",
       "\n",
       "    .dataframe tbody tr th {\n",
       "        vertical-align: top;\n",
       "    }\n",
       "</style>\n",
       "<table border=\"1\" class=\"dataframe\">\n",
       "  <thead>\n",
       "    <tr style=\"text-align: right;\">\n",
       "      <th></th>\n",
       "      <th>game_id</th>\n",
       "      <th>host_lat</th>\n",
       "      <th>host_long</th>\n",
       "      <th>team1_adjde</th>\n",
       "      <th>team1_adjoe</th>\n",
       "      <th>team1_id</th>\n",
       "      <th>team1_lat</th>\n",
       "      <th>team1_long</th>\n",
       "      <th>team1_nelo</th>\n",
       "      <th>team2_adjde</th>\n",
       "      <th>...</th>\n",
       "      <th>team2_lat</th>\n",
       "      <th>team2_long</th>\n",
       "      <th>team2_nelo</th>\n",
       "      <th>dist1</th>\n",
       "      <th>dist2</th>\n",
       "      <th>diff_dist</th>\n",
       "      <th>team1_name</th>\n",
       "      <th>team2_name</th>\n",
       "      <th>preds</th>\n",
       "      <th>prediction</th>\n",
       "    </tr>\n",
       "  </thead>\n",
       "  <tbody>\n",
       "    <tr>\n",
       "      <th>0</th>\n",
       "      <td>2018-1437-1347</td>\n",
       "      <td>40.4417</td>\n",
       "      <td>-80.0000</td>\n",
       "      <td>99.9</td>\n",
       "      <td>122.8</td>\n",
       "      <td>1437</td>\n",
       "      <td>40.039388</td>\n",
       "      <td>-75.345457</td>\n",
       "      <td>2142</td>\n",
       "      <td>100.5</td>\n",
       "      <td>...</td>\n",
       "      <td>37.136914</td>\n",
       "      <td>-80.549731</td>\n",
       "      <td>1932</td>\n",
       "      <td>397.676825</td>\n",
       "      <td>370.665213</td>\n",
       "      <td>27.011612</td>\n",
       "      <td>Villanova</td>\n",
       "      <td>Radford</td>\n",
       "      <td>0.963394</td>\n",
       "      <td>1</td>\n",
       "    </tr>\n",
       "    <tr>\n",
       "      <th>1</th>\n",
       "      <td>2018-1345-1168</td>\n",
       "      <td>42.3314</td>\n",
       "      <td>-83.0458</td>\n",
       "      <td>96.7</td>\n",
       "      <td>118.5</td>\n",
       "      <td>1345</td>\n",
       "      <td>40.428206</td>\n",
       "      <td>-86.914435</td>\n",
       "      <td>1932</td>\n",
       "      <td>101.5</td>\n",
       "      <td>...</td>\n",
       "      <td>33.883627</td>\n",
       "      <td>-117.885349</td>\n",
       "      <td>1887</td>\n",
       "      <td>386.024594</td>\n",
       "      <td>3165.668423</td>\n",
       "      <td>-2779.643830</td>\n",
       "      <td>Purdue</td>\n",
       "      <td>CS Fullerton</td>\n",
       "      <td>0.942205</td>\n",
       "      <td>1</td>\n",
       "    </tr>\n",
       "    <tr>\n",
       "      <th>2</th>\n",
       "      <td>2018-1403-1372</td>\n",
       "      <td>32.7767</td>\n",
       "      <td>-96.7970</td>\n",
       "      <td>94.2</td>\n",
       "      <td>109.2</td>\n",
       "      <td>1403</td>\n",
       "      <td>33.580309</td>\n",
       "      <td>-101.876917</td>\n",
       "      <td>1888</td>\n",
       "      <td>94.0</td>\n",
       "      <td>...</td>\n",
       "      <td>31.585620</td>\n",
       "      <td>-94.585460</td>\n",
       "      <td>1864</td>\n",
       "      <td>481.238753</td>\n",
       "      <td>246.765406</td>\n",
       "      <td>234.473347</td>\n",
       "      <td>Texas Tech</td>\n",
       "      <td>SF Austin</td>\n",
       "      <td>0.570748</td>\n",
       "      <td>1</td>\n",
       "    </tr>\n",
       "    <tr>\n",
       "      <th>3</th>\n",
       "      <td>2018-1455-1267</td>\n",
       "      <td>32.7150</td>\n",
       "      <td>-117.1625</td>\n",
       "      <td>101.9</td>\n",
       "      <td>117.8</td>\n",
       "      <td>1455</td>\n",
       "      <td>37.716484</td>\n",
       "      <td>-97.296733</td>\n",
       "      <td>1972</td>\n",
       "      <td>102.9</td>\n",
       "      <td>...</td>\n",
       "      <td>38.422610</td>\n",
       "      <td>-82.430650</td>\n",
       "      <td>1830</td>\n",
       "      <td>1884.774445</td>\n",
       "      <td>3186.314819</td>\n",
       "      <td>-1301.540375</td>\n",
       "      <td>Wichita St</td>\n",
       "      <td>Marshall</td>\n",
       "      <td>0.843927</td>\n",
       "      <td>1</td>\n",
       "    </tr>\n",
       "    <tr>\n",
       "      <th>4</th>\n",
       "      <td>2018-1452-1293</td>\n",
       "      <td>32.7150</td>\n",
       "      <td>-117.1625</td>\n",
       "      <td>98.5</td>\n",
       "      <td>113.0</td>\n",
       "      <td>1452</td>\n",
       "      <td>39.634680</td>\n",
       "      <td>-79.953926</td>\n",
       "      <td>1966</td>\n",
       "      <td>97.5</td>\n",
       "      <td>...</td>\n",
       "      <td>36.612410</td>\n",
       "      <td>-88.323493</td>\n",
       "      <td>1816</td>\n",
       "      <td>3402.698956</td>\n",
       "      <td>2663.507524</td>\n",
       "      <td>739.191432</td>\n",
       "      <td>West Virginia</td>\n",
       "      <td>Murray St</td>\n",
       "      <td>0.394118</td>\n",
       "      <td>0</td>\n",
       "    </tr>\n",
       "  </tbody>\n",
       "</table>\n",
       "<p>5 rows × 22 columns</p>\n",
       "</div>"
      ],
      "text/plain": [
       "          game_id  host_lat  host_long  team1_adjde  team1_adjoe  team1_id  \\\n",
       "0  2018-1437-1347   40.4417   -80.0000         99.9        122.8      1437   \n",
       "1  2018-1345-1168   42.3314   -83.0458         96.7        118.5      1345   \n",
       "2  2018-1403-1372   32.7767   -96.7970         94.2        109.2      1403   \n",
       "3  2018-1455-1267   32.7150  -117.1625        101.9        117.8      1455   \n",
       "4  2018-1452-1293   32.7150  -117.1625         98.5        113.0      1452   \n",
       "\n",
       "   team1_lat  team1_long  team1_nelo  team2_adjde    ...      team2_lat  \\\n",
       "0  40.039388  -75.345457        2142        100.5    ...      37.136914   \n",
       "1  40.428206  -86.914435        1932        101.5    ...      33.883627   \n",
       "2  33.580309 -101.876917        1888         94.0    ...      31.585620   \n",
       "3  37.716484  -97.296733        1972        102.9    ...      38.422610   \n",
       "4  39.634680  -79.953926        1966         97.5    ...      36.612410   \n",
       "\n",
       "   team2_long  team2_nelo        dist1        dist2    diff_dist  \\\n",
       "0  -80.549731        1932   397.676825   370.665213    27.011612   \n",
       "1 -117.885349        1887   386.024594  3165.668423 -2779.643830   \n",
       "2  -94.585460        1864   481.238753   246.765406   234.473347   \n",
       "3  -82.430650        1830  1884.774445  3186.314819 -1301.540375   \n",
       "4  -88.323493        1816  3402.698956  2663.507524   739.191432   \n",
       "\n",
       "      team1_name    team2_name     preds prediction  \n",
       "0      Villanova       Radford  0.963394          1  \n",
       "1         Purdue  CS Fullerton  0.942205          1  \n",
       "2     Texas Tech     SF Austin  0.570748          1  \n",
       "3     Wichita St      Marshall  0.843927          1  \n",
       "4  West Virginia     Murray St  0.394118          0  \n",
       "\n",
       "[5 rows x 22 columns]"
      ]
     },
     "execution_count": 39,
     "metadata": {},
     "output_type": "execute_result"
    }
   ],
   "source": [
    "round1result = pd.merge(MM2018, round1id, how='inner', on ='game_id')#, on= 'game_id')\n",
    "round1result.head()"
   ]
  },
  {
   "cell_type": "code",
   "execution_count": 40,
   "metadata": {
    "collapsed": true
   },
   "outputs": [],
   "source": [
    "team1_r1nelo=list()\n",
    "team2_r1nelo=list()\n",
    "\n",
    "i=0\n",
    "for index, row in round1result.iterrows():\n",
    "    if row['prediction'] == 1: \n",
    "        wteam = row['team1_id']\n",
    "        lteam = row['team2_id']\n",
    "        new_team1_rank, new_team2_rank = calc_elo(wteam, lteam)\n",
    "    else:\n",
    "        wteam = row['team2_id']\n",
    "        lteam = row['team1_id']\n",
    "        new_team2_rank, new_team1_rank = calc_elo(wteam, lteam)\n",
    "    i=i+1\n",
    "    team_elos[row['team1_id']] = new_team1_rank\n",
    "    team_elos[row['team2_id']] = new_team2_rank\n",
    "    #row['team1_r1elo'] = new_team1_rank\n",
    "    #row['team2_r1elo'] = new_team2_rank\n",
    "    team1_r1nelo.append(new_team1_rank)\n",
    "    team2_r1nelo.append(new_team2_rank)"
   ]
  },
  {
   "cell_type": "code",
   "execution_count": 41,
   "metadata": {
    "collapsed": true
   },
   "outputs": [],
   "source": [
    "round1result['team1_r1elo'] = team1_r1nelo\n",
    "round1result['team2_r1elo'] = team2_r1nelo"
   ]
  },
  {
   "cell_type": "code",
   "execution_count": 42,
   "metadata": {
    "collapsed": true
   },
   "outputs": [],
   "source": [
    "round1result.to_csv('D:/FORDHAM/March Madness/data/R1ELO.csv')"
   ]
  },
  {
   "cell_type": "code",
   "execution_count": null,
   "metadata": {
    "collapsed": true
   },
   "outputs": [],
   "source": []
  },
  {
   "cell_type": "code",
   "execution_count": null,
   "metadata": {
    "collapsed": true
   },
   "outputs": [],
   "source": []
  },
  {
   "cell_type": "code",
   "execution_count": null,
   "metadata": {
    "collapsed": true
   },
   "outputs": [],
   "source": []
  },
  {
   "cell_type": "code",
   "execution_count": null,
   "metadata": {
    "collapsed": true
   },
   "outputs": [],
   "source": []
  },
  {
   "cell_type": "code",
   "execution_count": null,
   "metadata": {
    "collapsed": true
   },
   "outputs": [],
   "source": []
  },
  {
   "cell_type": "code",
   "execution_count": 27,
   "metadata": {},
   "outputs": [
    {
     "data": {
      "text/plain": [
       "0.7224649238379216"
      ]
     },
     "execution_count": 27,
     "metadata": {},
     "output_type": "execute_result"
    }
   ],
   "source": [
    "scores = cross_val_score(NN, mm_train_scaled, MMuse['result_str'], cv=5)\n",
    "scores   \n",
    "scores.mean()"
   ]
  },
  {
   "cell_type": "code",
   "execution_count": 33,
   "metadata": {
    "collapsed": true
   },
   "outputs": [],
   "source": [
    "from sklearn.metrics import roc_curve, auc"
   ]
  },
  {
   "cell_type": "code",
   "execution_count": 30,
   "metadata": {
    "collapsed": true
   },
   "outputs": [],
   "source": [
    "fpr = dict()\n",
    "tpr = dict()\n",
    "roc_auc = dict()"
   ]
  },
  {
   "cell_type": "code",
   "execution_count": 34,
   "metadata": {},
   "outputs": [
    {
     "ename": "NameError",
     "evalue": "name 'metrics' is not defined",
     "output_type": "error",
     "traceback": [
      "\u001b[1;31m---------------------------------------------------------------------------\u001b[0m",
      "\u001b[1;31mNameError\u001b[0m                                 Traceback (most recent call last)",
      "\u001b[1;32m<ipython-input-34-6cc1bb742786>\u001b[0m in \u001b[0;36m<module>\u001b[1;34m()\u001b[0m\n\u001b[1;32m----> 1\u001b[1;33m \u001b[0mfpr\u001b[0m\u001b[1;33m,\u001b[0m \u001b[0mtpr\u001b[0m\u001b[1;33m,\u001b[0m \u001b[0mthreshold\u001b[0m \u001b[1;33m=\u001b[0m \u001b[0mmetrics\u001b[0m\u001b[1;33m.\u001b[0m\u001b[0mroc_curve\u001b[0m\u001b[1;33m(\u001b[0m\u001b[0mMMuse\u001b[0m\u001b[1;33m[\u001b[0m\u001b[1;34m'result_str'\u001b[0m\u001b[1;33m]\u001b[0m\u001b[1;33m,\u001b[0m \u001b[0mMMuse\u001b[0m\u001b[1;33m[\u001b[0m\u001b[1;34m'preds'\u001b[0m\u001b[1;33m]\u001b[0m\u001b[1;33m)\u001b[0m\u001b[1;33m\u001b[0m\u001b[0m\n\u001b[0m\u001b[0;32m      2\u001b[0m \u001b[0mroc_auc\u001b[0m \u001b[1;33m=\u001b[0m \u001b[0mmetrics\u001b[0m\u001b[1;33m.\u001b[0m\u001b[0mauc\u001b[0m\u001b[1;33m(\u001b[0m\u001b[0mfpr\u001b[0m\u001b[1;33m,\u001b[0m \u001b[0mtpr\u001b[0m\u001b[1;33m)\u001b[0m\u001b[1;33m\u001b[0m\u001b[0m\n",
      "\u001b[1;31mNameError\u001b[0m: name 'metrics' is not defined"
     ]
    }
   ],
   "source": [
    "fpr, tpr, threshold = metrics.roc_curve(MMuse['result_str'], MMuse['preds'])\n",
    "roc_auc = metrics.auc(fpr, tpr)"
   ]
  },
  {
   "cell_type": "code",
   "execution_count": null,
   "metadata": {
    "collapsed": true
   },
   "outputs": [],
   "source": [
    "# Compute macro-average ROC curve and ROC area\n",
    "\n",
    "# First aggregate all false positive rates\n",
    "all_fpr = np.unique(np.concatenate([fpr[i] for i in range(n_classes)]))\n",
    "\n",
    "# Then interpolate all ROC curves at this points\n",
    "mean_tpr = np.zeros_like(all_fpr)\n",
    "for i in range(n_classes):\n",
    "    mean_tpr += interp(all_fpr, fpr[i], tpr[i])\n",
    "\n",
    "# Finally average it and compute AUC\n",
    "mean_tpr /= n_classes\n",
    "\n",
    "fpr[\"macro\"] = all_fpr\n",
    "tpr[\"macro\"] = mean_tpr\n",
    "roc_auc[\"macro\"] = auc(fpr[\"macro\"], tpr[\"macro\"])\n",
    "\n",
    "# Plot all ROC curves\n",
    "plt.figure()\n",
    "plt.plot(fpr[\"micro\"], tpr[\"micro\"],\n",
    "         label='micro-average ROC curve (area = {0:0.2f})'\n",
    "               ''.format(roc_auc[\"micro\"]),\n",
    "         color='deeppink', linestyle=':', linewidth=4)\n",
    "\n",
    "plt.plot(fpr[\"macro\"], tpr[\"macro\"],\n",
    "         label='macro-average ROC curve (area = {0:0.2f})'\n",
    "               ''.format(roc_auc[\"macro\"]),\n",
    "         color='navy', linestyle=':', linewidth=4)\n",
    "\n",
    "colors = cycle(['aqua', 'darkorange', 'cornflowerblue'])\n",
    "for i, color in zip(range(n_classes), colors):\n",
    "    plt.plot(fpr[i], tpr[i], color=color, lw=lw,\n",
    "             label='ROC curve of class {0} (area = {1:0.2f})'\n",
    "             ''.format(i, roc_auc[i]))\n",
    "\n",
    "plt.plot([0, 1], [0, 1], 'k--', lw=lw)\n",
    "plt.xlim([0.0, 1.0])\n",
    "plt.ylim([0.0, 1.05])\n",
    "plt.xlabel('False Positive Rate')\n",
    "plt.ylabel('True Positive Rate')\n",
    "plt.title('Some extension of Receiver operating characteristic to multi-class')\n",
    "plt.legend(loc=\"lower right\")\n",
    "plt.show()"
   ]
  },
  {
   "cell_type": "code",
   "execution_count": null,
   "metadata": {
    "collapsed": true
   },
   "outputs": [],
   "source": []
  },
  {
   "cell_type": "markdown",
   "metadata": {},
   "source": [
    "# KNN with 6 variables + diff_dist"
   ]
  },
  {
   "cell_type": "code",
   "execution_count": 90,
   "metadata": {},
   "outputs": [
    {
     "data": {
      "text/plain": [
       "KNeighborsClassifier(algorithm='auto', leaf_size=30, metric='minkowski',\n",
       "           metric_params=None, n_jobs=1, n_neighbors=5, p=2,\n",
       "           weights='uniform')"
      ]
     },
     "execution_count": 90,
     "metadata": {},
     "output_type": "execute_result"
    }
   ],
   "source": [
    "from sklearn.neighbors import KNeighborsClassifier\n",
    "neigh = KNeighborsClassifier()\n",
    "neigh.fit(mm_train_scaled, MMuse['result_str']) "
   ]
  },
  {
   "cell_type": "code",
   "execution_count": 91,
   "metadata": {
    "collapsed": true
   },
   "outputs": [],
   "source": [
    "MMuse['preds4'] = neigh.predict_proba(scaler.fit_transform(MMuse[['team1_nnelo','team2_nnelo', 'team1_adjoe','team2_adjoe',\n",
    "                                                                'team1_adjde', 'team2_adjde', 'diff_dist']]))[:,1]\n",
    "MMuse['prediction'] = neigh.predict(scaler.fit_transform(MMuse[['team1_nnelo','team2_nnelo', 'team1_adjoe','team2_adjoe',\n",
    "                                                                'team1_adjde', 'team2_adjde', 'diff_dist']]))"
   ]
  },
  {
   "cell_type": "code",
   "execution_count": 93,
   "metadata": {},
   "outputs": [
    {
     "data": {
      "text/plain": [
       "0.77905859750240158"
      ]
     },
     "execution_count": 93,
     "metadata": {},
     "output_type": "execute_result"
    }
   ],
   "source": [
    "accuracy_score(MMuse['result_str'], MMuse['prediction'],)"
   ]
  },
  {
   "cell_type": "code",
   "execution_count": 92,
   "metadata": {},
   "outputs": [
    {
     "data": {
      "text/plain": [
       "0.43004718278424919"
      ]
     },
     "execution_count": 92,
     "metadata": {},
     "output_type": "execute_result"
    }
   ],
   "source": [
    "log_loss(MMuse['result_str'].values, MMuse['preds4'].values)"
   ]
  },
  {
   "cell_type": "code",
   "execution_count": 94,
   "metadata": {},
   "outputs": [
    {
     "data": {
      "text/plain": [
       "0.68392853015278643"
      ]
     },
     "execution_count": 94,
     "metadata": {},
     "output_type": "execute_result"
    }
   ],
   "source": [
    "scores = cross_val_score(neigh, mm_train_scaled, MMuse['result_str'], cv=5)\n",
    "scores   \n",
    "scores.mean()"
   ]
  },
  {
   "cell_type": "markdown",
   "metadata": {},
   "source": [
    "# Logistic Model with 4 variables"
   ]
  },
  {
   "cell_type": "code",
   "execution_count": 86,
   "metadata": {},
   "outputs": [
    {
     "data": {
      "text/plain": [
       "LogisticRegression(C=1.0, class_weight=None, dual=False, fit_intercept=True,\n",
       "          intercept_scaling=1, max_iter=100, multi_class='ovr', n_jobs=1,\n",
       "          penalty='l2', random_state=None, solver='liblinear', tol=0.0001,\n",
       "          verbose=0, warm_start=False)"
      ]
     },
     "execution_count": 86,
     "metadata": {},
     "output_type": "execute_result"
    }
   ],
   "source": [
    "mm2_train_scaled = scaler.fit_transform(MMuse[['team1_adjoe','team2_adjoe', 'team1_adjde', 'team2_adjde']])\n",
    "logit.fit(mm2_train_scaled, MMuse['result'])"
   ]
  },
  {
   "cell_type": "code",
   "execution_count": 87,
   "metadata": {},
   "outputs": [
    {
     "name": "stdout",
     "output_type": "stream",
     "text": [
      "Optimization terminated successfully.\n",
      "         Current function value: 0.532072\n",
      "         Iterations 6\n"
     ]
    },
    {
     "data": {
      "text/html": [
       "<table class=\"simpletable\">\n",
       "<caption>Logit Regression Results</caption>\n",
       "<tr>\n",
       "  <th>Dep. Variable:</th>      <td>result</td>      <th>  No. Observations:  </th>  <td>  1041</td>  \n",
       "</tr>\n",
       "<tr>\n",
       "  <th>Model:</th>               <td>Logit</td>      <th>  Df Residuals:      </th>  <td>  1037</td>  \n",
       "</tr>\n",
       "<tr>\n",
       "  <th>Method:</th>               <td>MLE</td>       <th>  Df Model:          </th>  <td>     3</td>  \n",
       "</tr>\n",
       "<tr>\n",
       "  <th>Date:</th>          <td>Fri, 16 Mar 2018</td> <th>  Pseudo R-squ.:     </th>  <td>0.2313</td>  \n",
       "</tr>\n",
       "<tr>\n",
       "  <th>Time:</th>              <td>15:38:21</td>     <th>  Log-Likelihood:    </th> <td> -553.89</td> \n",
       "</tr>\n",
       "<tr>\n",
       "  <th>converged:</th>           <td>True</td>       <th>  LL-Null:           </th> <td> -720.59</td> \n",
       "</tr>\n",
       "<tr>\n",
       "  <th> </th>                      <td> </td>        <th>  LLR p-value:       </th> <td>5.823e-72</td>\n",
       "</tr>\n",
       "</table>\n",
       "<table class=\"simpletable\">\n",
       "<tr>\n",
       "       <td></td>          <th>coef</th>     <th>std err</th>      <th>z</th>      <th>P>|z|</th>  <th>[0.025</th>    <th>0.975]</th>  \n",
       "</tr>\n",
       "<tr>\n",
       "  <th>team1_adjoe</th> <td>    0.1396</td> <td>    0.013</td> <td>   10.365</td> <td> 0.000</td> <td>    0.113</td> <td>    0.166</td>\n",
       "</tr>\n",
       "<tr>\n",
       "  <th>team2_adjoe</th> <td>   -0.1186</td> <td>    0.013</td> <td>   -9.114</td> <td> 0.000</td> <td>   -0.144</td> <td>   -0.093</td>\n",
       "</tr>\n",
       "<tr>\n",
       "  <th>team1_adjde</th> <td>   -0.1572</td> <td>    0.016</td> <td>   -9.749</td> <td> 0.000</td> <td>   -0.189</td> <td>   -0.126</td>\n",
       "</tr>\n",
       "<tr>\n",
       "  <th>team2_adjde</th> <td>    0.1328</td> <td>    0.016</td> <td>    8.462</td> <td> 0.000</td> <td>    0.102</td> <td>    0.164</td>\n",
       "</tr>\n",
       "</table>"
      ],
      "text/plain": [
       "<class 'statsmodels.iolib.summary.Summary'>\n",
       "\"\"\"\n",
       "                           Logit Regression Results                           \n",
       "==============================================================================\n",
       "Dep. Variable:                 result   No. Observations:                 1041\n",
       "Model:                          Logit   Df Residuals:                     1037\n",
       "Method:                           MLE   Df Model:                            3\n",
       "Date:                Fri, 16 Mar 2018   Pseudo R-squ.:                  0.2313\n",
       "Time:                        15:38:21   Log-Likelihood:                -553.89\n",
       "converged:                       True   LL-Null:                       -720.59\n",
       "                                        LLR p-value:                 5.823e-72\n",
       "===============================================================================\n",
       "                  coef    std err          z      P>|z|      [0.025      0.975]\n",
       "-------------------------------------------------------------------------------\n",
       "team1_adjoe     0.1396      0.013     10.365      0.000       0.113       0.166\n",
       "team2_adjoe    -0.1186      0.013     -9.114      0.000      -0.144      -0.093\n",
       "team1_adjde    -0.1572      0.016     -9.749      0.000      -0.189      -0.126\n",
       "team2_adjde     0.1328      0.016      8.462      0.000       0.102       0.164\n",
       "===============================================================================\n",
       "\"\"\""
      ]
     },
     "execution_count": 87,
     "metadata": {},
     "output_type": "execute_result"
    }
   ],
   "source": [
    "smlogit = sm.Logit(MMuse['result'], MMuse[['team1_adjoe','team2_adjoe', 'team1_adjde', 'team2_adjde']]).fit()\n",
    "smlogit.summary()"
   ]
  },
  {
   "cell_type": "code",
   "execution_count": 88,
   "metadata": {
    "collapsed": true
   },
   "outputs": [],
   "source": [
    "MMuse['preds1'] = logit.predict_proba(scaler.fit_transform(MMuse[['team1_adjoe','team2_adjoe',\n",
    "                                                                'team1_adjde', 'team2_adjde']]))[:,1]\n",
    "MMuse['prediction'] = logit.predict(scaler.fit_transform(MMuse[['team1_adjoe','team2_adjoe',\n",
    "                                                                'team1_adjde', 'team2_adjde']]))"
   ]
  },
  {
   "cell_type": "code",
   "execution_count": 536,
   "metadata": {},
   "outputs": [
    {
     "data": {
      "text/plain": [
       "0.71757925072046114"
      ]
     },
     "execution_count": 536,
     "metadata": {},
     "output_type": "execute_result"
    }
   ],
   "source": [
    "accuracy_score(MMuse['result'], MMuse['prediction'],)"
   ]
  },
  {
   "cell_type": "code",
   "execution_count": 89,
   "metadata": {},
   "outputs": [
    {
     "data": {
      "text/plain": [
       "0.53136304708782878"
      ]
     },
     "execution_count": 89,
     "metadata": {},
     "output_type": "execute_result"
    }
   ],
   "source": [
    "log_loss(MMuse['result'].values, MMuse['preds1'].values)"
   ]
  },
  {
   "cell_type": "code",
   "execution_count": 538,
   "metadata": {},
   "outputs": [
    {
     "data": {
      "text/plain": [
       "0.7205510482398354"
      ]
     },
     "execution_count": 538,
     "metadata": {},
     "output_type": "execute_result"
    }
   ],
   "source": [
    "scores = cross_val_score(logit, mm_train_scaled, MMuse['result_str'], cv=5)\n",
    "scores   \n",
    "scores.mean()"
   ]
  },
  {
   "cell_type": "markdown",
   "metadata": {},
   "source": [
    "# NN Model with 4 variables"
   ]
  },
  {
   "cell_type": "code",
   "execution_count": 82,
   "metadata": {},
   "outputs": [
    {
     "data": {
      "text/plain": [
       "MLPClassifier(activation='relu', alpha=0.0001, batch_size='auto', beta_1=0.9,\n",
       "       beta_2=0.999, early_stopping=False, epsilon=1e-08,\n",
       "       hidden_layer_sizes=(100,), learning_rate='constant',\n",
       "       learning_rate_init=0.001, max_iter=200, momentum=0.9,\n",
       "       nesterovs_momentum=True, power_t=0.5, random_state=None,\n",
       "       shuffle=True, solver='adam', tol=0.0001, validation_fraction=0.1,\n",
       "       verbose=False, warm_start=False)"
      ]
     },
     "execution_count": 82,
     "metadata": {},
     "output_type": "execute_result"
    }
   ],
   "source": [
    "\n",
    "NN2 = MLPClassifier()\n",
    "NN2.fit(mm2_train_scaled, MMuse['result_str'])  "
   ]
  },
  {
   "cell_type": "code",
   "execution_count": 83,
   "metadata": {
    "collapsed": true
   },
   "outputs": [],
   "source": [
    "MMuse['preds'] = NN2.predict_proba(scaler.fit_transform(MMuse[['team1_adjoe','team2_adjoe', 'team1_adjde', 'team2_adjde']]))[:,1]\n",
    "MMuse['prediction'] = NN2.predict(scaler.fit_transform(MMuse[['team1_adjoe','team2_adjoe', 'team1_adjde', 'team2_adjde']]))"
   ]
  },
  {
   "cell_type": "code",
   "execution_count": 84,
   "metadata": {},
   "outputs": [
    {
     "data": {
      "text/plain": [
       "0.72046109510086453"
      ]
     },
     "execution_count": 84,
     "metadata": {},
     "output_type": "execute_result"
    }
   ],
   "source": [
    "accuracy_score(MMuse['result_str'], MMuse['prediction'],)"
   ]
  },
  {
   "cell_type": "code",
   "execution_count": 85,
   "metadata": {},
   "outputs": [
    {
     "data": {
      "text/plain": [
       "0.52592552003061666"
      ]
     },
     "execution_count": 85,
     "metadata": {},
     "output_type": "execute_result"
    }
   ],
   "source": [
    "log_loss(MMuse['result_str'].values, MMuse['preds'].values)"
   ]
  },
  {
   "cell_type": "code",
   "execution_count": null,
   "metadata": {
    "collapsed": true
   },
   "outputs": [],
   "source": []
  },
  {
   "cell_type": "markdown",
   "metadata": {},
   "source": [
    "# draft for validataion use"
   ]
  },
  {
   "cell_type": "code",
   "execution_count": 145,
   "metadata": {
    "collapsed": true
   },
   "outputs": [],
   "source": [
    "from sklearn.neural_network import MLPClassifier"
   ]
  },
  {
   "cell_type": "code",
   "execution_count": 155,
   "metadata": {},
   "outputs": [
    {
     "data": {
      "text/plain": [
       "MLPClassifier(activation='relu', alpha=0.0001, batch_size='auto', beta_1=0.9,\n",
       "       beta_2=0.999, early_stopping=False, epsilon=1e-08,\n",
       "       hidden_layer_sizes=(100,), learning_rate='constant',\n",
       "       learning_rate_init=0.001, max_iter=200, momentum=0.9,\n",
       "       nesterovs_momentum=True, power_t=0.5, random_state=None,\n",
       "       shuffle=True, solver='adam', tol=0.0001, validation_fraction=0.1,\n",
       "       verbose=False, warm_start=False)"
      ]
     },
     "execution_count": 155,
     "metadata": {},
     "output_type": "execute_result"
    }
   ],
   "source": [
    "NN = MLPClassifier()\n",
    "NN.fit(mm2_train_scaled, MMuse['result_str'])                         "
   ]
  },
  {
   "cell_type": "code",
   "execution_count": 156,
   "metadata": {
    "collapsed": true
   },
   "outputs": [],
   "source": [
    "MMuse['preds'] = NN.predict_proba(scaler.fit_transform(MMuse[['team1_adjoe','team2_adjoe', 'team1_adjde', 'team2_adjde']]))[:,1]\n",
    "MMuse['prediction'] = NN.predict(scaler.fit_transform(MMuse[['team1_adjoe','team2_adjoe', 'team1_adjde', 'team2_adjde']]))"
   ]
  },
  {
   "cell_type": "code",
   "execution_count": 158,
   "metadata": {},
   "outputs": [
    {
     "data": {
      "text/plain": [
       "0.72622478386167144"
      ]
     },
     "execution_count": 158,
     "metadata": {},
     "output_type": "execute_result"
    }
   ],
   "source": [
    "accuracy_score(MMuse['result_str'], MMuse['prediction'],)"
   ]
  },
  {
   "cell_type": "code",
   "execution_count": 159,
   "metadata": {},
   "outputs": [
    {
     "data": {
      "text/plain": [
       "0.52244322596315729"
      ]
     },
     "execution_count": 159,
     "metadata": {},
     "output_type": "execute_result"
    }
   ],
   "source": [
    "log_loss(MMuse['result'].values, MMuse['preds'].values)"
   ]
  },
  {
   "cell_type": "code",
   "execution_count": 74,
   "metadata": {
    "collapsed": true
   },
   "outputs": [],
   "source": [
    "data = pd.read_csv(\"D:/FORDHAM/March Madness/data/NCAA_Tourney_2017.csv\")"
   ]
  },
  {
   "cell_type": "code",
   "execution_count": 75,
   "metadata": {
    "collapsed": true
   },
   "outputs": [],
   "source": [
    "MM2017 = data[['result', 'team1_adjde', 'team1_adjoe',\n",
    "       'team1_adjtempo', 'team1_arate', 'team1_blockpct', 'team1_fg2pct',\n",
    "       'team1_fg3pct', 'team1_ftpct', 'team1_id', 'team1_opparate',\n",
    "       'team1_oppblockpct', 'team1_oppfg2pct', 'team1_oppfg3pct',\n",
    "       'team1_oppftpct', 'team1_oppstlrate', 'team1_pt_career_overall_losses',\n",
    "       'team1_pt_career_school_wins', 'team1_pt_overall_ncaa',\n",
    "       'team1_pt_school_ncaa', 'team1_pt_team_season_losses',\n",
    "       'team1_pt_team_season_wins', 'team1_rpi_rating',\n",
    "       'team1_seed', 'team1_stlrate', 'team2_adjde', 'team2_adjoe',\n",
    "       'team2_adjtempo', 'team2_arate', 'team2_blockpct', 'team2_f3grate',\n",
    "       'team2_fg2pct', 'team2_fg3pct', 'team2_ftpct', 'team2_id',\n",
    "       'team2_opparate', 'team2_oppblockpct', 'team2_oppf3grate',\n",
    "       'team2_oppfg2pct', 'team2_oppfg3pct', 'team2_oppftpct',\n",
    "       'team2_oppstlrate', 'team2_pt_career_overall_losses',\n",
    "       'team2_pt_career_school_wins', 'team2_pt_overall_ncaa',\n",
    "       'team2_pt_school_ncaa', 'team2_pt_team_season_losses',\n",
    "       'team2_pt_team_season_wins', 'team2_rpi_rating',\n",
    "       'team2_seed', 'team2_stlrate']]"
   ]
  },
  {
   "cell_type": "code",
   "execution_count": 83,
   "metadata": {
    "collapsed": true
   },
   "outputs": [],
   "source": [
    "i=0\n",
    "team1_nelo=list()\n",
    "team2_nelo=list()\n",
    "for index, row in MM2017.iterrows():\n",
    "    if row['result'] == 1: \n",
    "        wteam = row['team1_id']\n",
    "        lteam = row['team2_id']\n",
    "        new_team1_rank, new_team2_rank = calc_elo(wteam, lteam)\n",
    "    else:\n",
    "        wteam = row['team2_id']\n",
    "        lteam = row['team1_id']\n",
    "        new_team2_rank, new_team1_rank = calc_elo(wteam, lteam)\n",
    "    i=i+1\n",
    "    team_elos[row['team1_id']] = new_team1_rank\n",
    "    team_elos[row['team2_id']] = new_team2_rank\n",
    "    team1_nelo.append(new_team1_rank)\n",
    "    team2_nelo.append(new_team2_rank)"
   ]
  },
  {
   "cell_type": "code",
   "execution_count": 84,
   "metadata": {
    "collapsed": true
   },
   "outputs": [],
   "source": [
    "data2 = {'team1_nelo': team1_nelo, 'team2_nelo':team2_nelo, 'team1_id':MM2017['team1_id'],\n",
    "      'team2_id':MM2017['team2_id'], 'result':MM2017['result'],'team1_adjoe':MM2017['team1_adjoe'],\n",
    "         'team2_adjoe':MM2017['team2_adjoe'], 'team1_adjde':MM2017['team1_adjde'], 'team2_adjde':MM2017['team2_adjde']}\n",
    "MM2017use = pd.DataFrame(data2)"
   ]
  },
  {
   "cell_type": "code",
   "execution_count": 78,
   "metadata": {},
   "outputs": [
    {
     "data": {
      "text/plain": [
       "RandomForestClassifier(bootstrap=True, class_weight=None, criterion='gini',\n",
       "            max_depth=None, max_features='auto', max_leaf_nodes=None,\n",
       "            min_impurity_decrease=0.0, min_impurity_split=None,\n",
       "            min_samples_leaf=1, min_samples_split=2,\n",
       "            min_weight_fraction_leaf=0.0, n_estimators=10, n_jobs=1,\n",
       "            oob_score=False, random_state=0, verbose=0, warm_start=False)"
      ]
     },
     "execution_count": 78,
     "metadata": {},
     "output_type": "execute_result"
    }
   ],
   "source": [
    "#mm2_train_scaled = scaler.fit_transform(MM2017use[['team1_nelo','team2_nelo','team1_adjoe','team2_adjoe', 'team1_adjde', 'team2_adjde']])\n",
    "#RanFor= RandomForestClassifier(n_estimators=10, max_depth=None, min_samples_split=2, random_state=0)\n",
    "#RanFor.fit(mm2_train_scaled, MM2017use['result'])"
   ]
  },
  {
   "cell_type": "code",
   "execution_count": 90,
   "metadata": {
    "collapsed": true
   },
   "outputs": [],
   "source": [
    "#MM2017use['preds'] = RanFor.predict_proba(scaler.fit_transform(MM2017use[['team1_nelo','team2_nelo','team1_adjoe','team2_adjoe', 'team1_adjde', 'team2_adjde']]))[:,1]\n",
    "MM2017use['prediction'] = RanFor.predict(scaler.fit_transform(MM2017use[['team1_adjoe','team2_adjoe', 'team1_adjde', 'team2_adjde']]))"
   ]
  },
  {
   "cell_type": "code",
   "execution_count": 91,
   "metadata": {},
   "outputs": [
    {
     "data": {
      "text/plain": [
       "0.46031746031746029"
      ]
     },
     "execution_count": 91,
     "metadata": {},
     "output_type": "execute_result"
    }
   ],
   "source": [
    "accuracy_score(MM2017use['result'], MM2017use['prediction'],)"
   ]
  },
  {
   "cell_type": "code",
   "execution_count": 46,
   "metadata": {},
   "outputs": [
    {
     "ename": "ValueError",
     "evalue": "X has 6 features per sample; expecting 4",
     "output_type": "error",
     "traceback": [
      "\u001b[1;31m---------------------------------------------------------------------------\u001b[0m",
      "\u001b[1;31mValueError\u001b[0m                                Traceback (most recent call last)",
      "\u001b[1;32m<ipython-input-46-59444a772140>\u001b[0m in \u001b[0;36m<module>\u001b[1;34m()\u001b[0m\n\u001b[1;32m----> 1\u001b[1;33m \u001b[0mMM2017use\u001b[0m\u001b[1;33m[\u001b[0m\u001b[1;34m'preds'\u001b[0m\u001b[1;33m]\u001b[0m \u001b[1;33m=\u001b[0m \u001b[0mlogit\u001b[0m\u001b[1;33m.\u001b[0m\u001b[0mpredict_proba\u001b[0m\u001b[1;33m(\u001b[0m\u001b[0mscaler\u001b[0m\u001b[1;33m.\u001b[0m\u001b[0mfit_transform\u001b[0m\u001b[1;33m(\u001b[0m\u001b[0mMM2017use\u001b[0m\u001b[1;33m[\u001b[0m\u001b[1;33m[\u001b[0m\u001b[1;34m'team1_nelo'\u001b[0m\u001b[1;33m,\u001b[0m\u001b[1;34m'team2_nelo'\u001b[0m\u001b[1;33m,\u001b[0m\u001b[1;34m'team1_adjoe'\u001b[0m\u001b[1;33m,\u001b[0m\u001b[1;34m'team2_adjoe'\u001b[0m\u001b[1;33m,\u001b[0m \u001b[1;34m'team1_adjde'\u001b[0m\u001b[1;33m,\u001b[0m \u001b[1;34m'team2_adjde'\u001b[0m\u001b[1;33m]\u001b[0m\u001b[1;33m]\u001b[0m\u001b[1;33m)\u001b[0m\u001b[1;33m)\u001b[0m\u001b[1;33m[\u001b[0m\u001b[1;33m:\u001b[0m\u001b[1;33m,\u001b[0m\u001b[1;36m1\u001b[0m\u001b[1;33m]\u001b[0m\u001b[1;33m\u001b[0m\u001b[0m\n\u001b[0m\u001b[0;32m      2\u001b[0m \u001b[0mMM2017use\u001b[0m\u001b[1;33m[\u001b[0m\u001b[1;34m'prediction'\u001b[0m\u001b[1;33m]\u001b[0m \u001b[1;33m=\u001b[0m \u001b[0mlogit\u001b[0m\u001b[1;33m.\u001b[0m\u001b[0mpredict\u001b[0m\u001b[1;33m(\u001b[0m\u001b[0mscaler\u001b[0m\u001b[1;33m.\u001b[0m\u001b[0mfit_transform\u001b[0m\u001b[1;33m(\u001b[0m\u001b[0mMM2017use\u001b[0m\u001b[1;33m[\u001b[0m\u001b[1;33m[\u001b[0m\u001b[1;34m'team1_nelo'\u001b[0m\u001b[1;33m,\u001b[0m\u001b[1;34m'team2_nelo'\u001b[0m\u001b[1;33m,\u001b[0m \u001b[1;34m'team1_adjoe'\u001b[0m\u001b[1;33m,\u001b[0m\u001b[1;34m'team2_adjoe'\u001b[0m\u001b[1;33m,\u001b[0m \u001b[1;34m'team1_adjde'\u001b[0m\u001b[1;33m,\u001b[0m \u001b[1;34m'team2_adjde'\u001b[0m\u001b[1;33m]\u001b[0m\u001b[1;33m]\u001b[0m\u001b[1;33m)\u001b[0m\u001b[1;33m)\u001b[0m\u001b[1;33m\u001b[0m\u001b[0m\n",
      "\u001b[1;32m~\\Anaconda3\\lib\\site-packages\\sklearn\\linear_model\\logistic.py\u001b[0m in \u001b[0;36mpredict_proba\u001b[1;34m(self, X)\u001b[0m\n\u001b[0;32m   1334\u001b[0m         \u001b[0mcalculate_ovr\u001b[0m \u001b[1;33m=\u001b[0m \u001b[0mself\u001b[0m\u001b[1;33m.\u001b[0m\u001b[0mcoef_\u001b[0m\u001b[1;33m.\u001b[0m\u001b[0mshape\u001b[0m\u001b[1;33m[\u001b[0m\u001b[1;36m0\u001b[0m\u001b[1;33m]\u001b[0m \u001b[1;33m==\u001b[0m \u001b[1;36m1\u001b[0m \u001b[1;32mor\u001b[0m \u001b[0mself\u001b[0m\u001b[1;33m.\u001b[0m\u001b[0mmulti_class\u001b[0m \u001b[1;33m==\u001b[0m \u001b[1;34m\"ovr\"\u001b[0m\u001b[1;33m\u001b[0m\u001b[0m\n\u001b[0;32m   1335\u001b[0m         \u001b[1;32mif\u001b[0m \u001b[0mcalculate_ovr\u001b[0m\u001b[1;33m:\u001b[0m\u001b[1;33m\u001b[0m\u001b[0m\n\u001b[1;32m-> 1336\u001b[1;33m             \u001b[1;32mreturn\u001b[0m \u001b[0msuper\u001b[0m\u001b[1;33m(\u001b[0m\u001b[0mLogisticRegression\u001b[0m\u001b[1;33m,\u001b[0m \u001b[0mself\u001b[0m\u001b[1;33m)\u001b[0m\u001b[1;33m.\u001b[0m\u001b[0m_predict_proba_lr\u001b[0m\u001b[1;33m(\u001b[0m\u001b[0mX\u001b[0m\u001b[1;33m)\u001b[0m\u001b[1;33m\u001b[0m\u001b[0m\n\u001b[0m\u001b[0;32m   1337\u001b[0m         \u001b[1;32melse\u001b[0m\u001b[1;33m:\u001b[0m\u001b[1;33m\u001b[0m\u001b[0m\n\u001b[0;32m   1338\u001b[0m             \u001b[1;32mreturn\u001b[0m \u001b[0msoftmax\u001b[0m\u001b[1;33m(\u001b[0m\u001b[0mself\u001b[0m\u001b[1;33m.\u001b[0m\u001b[0mdecision_function\u001b[0m\u001b[1;33m(\u001b[0m\u001b[0mX\u001b[0m\u001b[1;33m)\u001b[0m\u001b[1;33m,\u001b[0m \u001b[0mcopy\u001b[0m\u001b[1;33m=\u001b[0m\u001b[1;32mFalse\u001b[0m\u001b[1;33m)\u001b[0m\u001b[1;33m\u001b[0m\u001b[0m\n",
      "\u001b[1;32m~\\Anaconda3\\lib\\site-packages\\sklearn\\linear_model\\base.py\u001b[0m in \u001b[0;36m_predict_proba_lr\u001b[1;34m(self, X)\u001b[0m\n\u001b[0;32m    336\u001b[0m         \u001b[0mmulticlass\u001b[0m \u001b[1;32mis\u001b[0m \u001b[0mhandled\u001b[0m \u001b[0mby\u001b[0m \u001b[0mnormalizing\u001b[0m \u001b[0mthat\u001b[0m \u001b[0mover\u001b[0m \u001b[0mall\u001b[0m \u001b[0mclasses\u001b[0m\u001b[1;33m.\u001b[0m\u001b[1;33m\u001b[0m\u001b[0m\n\u001b[0;32m    337\u001b[0m         \"\"\"\n\u001b[1;32m--> 338\u001b[1;33m         \u001b[0mprob\u001b[0m \u001b[1;33m=\u001b[0m \u001b[0mself\u001b[0m\u001b[1;33m.\u001b[0m\u001b[0mdecision_function\u001b[0m\u001b[1;33m(\u001b[0m\u001b[0mX\u001b[0m\u001b[1;33m)\u001b[0m\u001b[1;33m\u001b[0m\u001b[0m\n\u001b[0m\u001b[0;32m    339\u001b[0m         \u001b[0mprob\u001b[0m \u001b[1;33m*=\u001b[0m \u001b[1;33m-\u001b[0m\u001b[1;36m1\u001b[0m\u001b[1;33m\u001b[0m\u001b[0m\n\u001b[0;32m    340\u001b[0m         \u001b[0mnp\u001b[0m\u001b[1;33m.\u001b[0m\u001b[0mexp\u001b[0m\u001b[1;33m(\u001b[0m\u001b[0mprob\u001b[0m\u001b[1;33m,\u001b[0m \u001b[0mprob\u001b[0m\u001b[1;33m)\u001b[0m\u001b[1;33m\u001b[0m\u001b[0m\n",
      "\u001b[1;32m~\\Anaconda3\\lib\\site-packages\\sklearn\\linear_model\\base.py\u001b[0m in \u001b[0;36mdecision_function\u001b[1;34m(self, X)\u001b[0m\n\u001b[0;32m    303\u001b[0m         \u001b[1;32mif\u001b[0m \u001b[0mX\u001b[0m\u001b[1;33m.\u001b[0m\u001b[0mshape\u001b[0m\u001b[1;33m[\u001b[0m\u001b[1;36m1\u001b[0m\u001b[1;33m]\u001b[0m \u001b[1;33m!=\u001b[0m \u001b[0mn_features\u001b[0m\u001b[1;33m:\u001b[0m\u001b[1;33m\u001b[0m\u001b[0m\n\u001b[0;32m    304\u001b[0m             raise ValueError(\"X has %d features per sample; expecting %d\"\n\u001b[1;32m--> 305\u001b[1;33m                              % (X.shape[1], n_features))\n\u001b[0m\u001b[0;32m    306\u001b[0m \u001b[1;33m\u001b[0m\u001b[0m\n\u001b[0;32m    307\u001b[0m         scores = safe_sparse_dot(X, self.coef_.T,\n",
      "\u001b[1;31mValueError\u001b[0m: X has 6 features per sample; expecting 4"
     ]
    }
   ],
   "source": [
    "MM2017use['preds'] = logit.predict_proba(scaler.fit_transform(MM2017use[['team1_nelo','team2_nelo','team1_adjoe','team2_adjoe', 'team1_adjde', 'team2_adjde']]))[:,1]\n",
    "MM2017use['prediction'] = logit.predict(scaler.fit_transform(MM2017use[['team1_nelo','team2_nelo', 'team1_adjoe','team2_adjoe', 'team1_adjde', 'team2_adjde']]))"
   ]
  },
  {
   "cell_type": "code",
   "execution_count": 37,
   "metadata": {},
   "outputs": [
    {
     "ename": "NameError",
     "evalue": "name 'MM2017use' is not defined",
     "output_type": "error",
     "traceback": [
      "\u001b[1;31m---------------------------------------------------------------------------\u001b[0m",
      "\u001b[1;31mNameError\u001b[0m                                 Traceback (most recent call last)",
      "\u001b[1;32m<ipython-input-37-3af377ce9f97>\u001b[0m in \u001b[0;36m<module>\u001b[1;34m()\u001b[0m\n\u001b[1;32m----> 1\u001b[1;33m \u001b[0maccuracy_score\u001b[0m\u001b[1;33m(\u001b[0m\u001b[0mMM2017use\u001b[0m\u001b[1;33m[\u001b[0m\u001b[1;34m'result'\u001b[0m\u001b[1;33m]\u001b[0m\u001b[1;33m,\u001b[0m \u001b[0mMM2017use\u001b[0m\u001b[1;33m[\u001b[0m\u001b[1;34m'prediction'\u001b[0m\u001b[1;33m]\u001b[0m\u001b[1;33m,\u001b[0m\u001b[1;33m)\u001b[0m\u001b[1;33m\u001b[0m\u001b[0m\n\u001b[0m",
      "\u001b[1;31mNameError\u001b[0m: name 'MM2017use' is not defined"
     ]
    }
   ],
   "source": [
    "accuracy_score(MM2017use['result'], MM2017use['prediction'],)"
   ]
  },
  {
   "cell_type": "code",
   "execution_count": 68,
   "metadata": {
    "collapsed": true
   },
   "outputs": [],
   "source": [
    "MM2017use['preds'] = logit.predict_proba(scaler.fit_transform(MM2017use[['team1_adjoe','team2_adjoe', 'team1_adjde', 'team2_adjde']]))[:,1]\n",
    "MM2017use['prediction'] = logit.predict(scaler.fit_transform(MM2017use[['team1_adjoe','team2_adjoe', 'team1_adjde', 'team2_adjde']]))"
   ]
  },
  {
   "cell_type": "code",
   "execution_count": 69,
   "metadata": {},
   "outputs": [
    {
     "data": {
      "text/plain": [
       "0.46031746031746029"
      ]
     },
     "execution_count": 69,
     "metadata": {},
     "output_type": "execute_result"
    }
   ],
   "source": [
    "accuracy_score(MM2017use['result'], MM2017use['prediction'],)"
   ]
  },
  {
   "cell_type": "code",
   "execution_count": 66,
   "metadata": {
    "collapsed": true
   },
   "outputs": [],
   "source": [
    "MM2017use['preds'] = RanFor.predict_proba(scaler.fit_transform(MM2017use[['team1_adjoe','team2_adjoe', 'team1_adjde', 'team2_adjde']]))[:,1]\n",
    "MM2017use['prediction'] = RanFor.predict(scaler.fit_transform(MM2017use[['team1_adjoe','team2_adjoe', 'team1_adjde', 'team2_adjde']]))"
   ]
  },
  {
   "cell_type": "code",
   "execution_count": 195,
   "metadata": {},
   "outputs": [
    {
     "data": {
      "text/plain": [
       "0.50612390073648161"
      ]
     },
     "execution_count": 195,
     "metadata": {},
     "output_type": "execute_result"
    }
   ],
   "source": [
    "log_loss(MMuse['result'].values, MMuse['preds'].values)"
   ]
  },
  {
   "cell_type": "code",
   "execution_count": 211,
   "metadata": {},
   "outputs": [
    {
     "ename": "NameError",
     "evalue": "name 'MM2017use' is not defined",
     "output_type": "error",
     "traceback": [
      "\u001b[1;31m---------------------------------------------------------------------------\u001b[0m",
      "\u001b[1;31mNameError\u001b[0m                                 Traceback (most recent call last)",
      "\u001b[1;32m<ipython-input-211-3af377ce9f97>\u001b[0m in \u001b[0;36m<module>\u001b[1;34m()\u001b[0m\n\u001b[1;32m----> 1\u001b[1;33m \u001b[0maccuracy_score\u001b[0m\u001b[1;33m(\u001b[0m\u001b[0mMM2017use\u001b[0m\u001b[1;33m[\u001b[0m\u001b[1;34m'result'\u001b[0m\u001b[1;33m]\u001b[0m\u001b[1;33m,\u001b[0m \u001b[0mMM2017use\u001b[0m\u001b[1;33m[\u001b[0m\u001b[1;34m'prediction'\u001b[0m\u001b[1;33m]\u001b[0m\u001b[1;33m,\u001b[0m\u001b[1;33m)\u001b[0m\u001b[1;33m\u001b[0m\u001b[0m\n\u001b[0m",
      "\u001b[1;31mNameError\u001b[0m: name 'MM2017use' is not defined"
     ]
    }
   ],
   "source": [
    "accuracy_score(MM2017use['result'], MM2017use['prediction'],)"
   ]
  },
  {
   "cell_type": "markdown",
   "metadata": {},
   "source": [
    "# _______________________marked___________for distance"
   ]
  },
  {
   "cell_type": "code",
   "execution_count": null,
   "metadata": {
    "collapsed": true
   },
   "outputs": [],
   "source": []
  }
 ],
 "metadata": {
  "kernelspec": {
   "display_name": "Python 3",
   "language": "python",
   "name": "python3"
  },
  "language_info": {
   "codemirror_mode": {
    "name": "ipython",
    "version": 3
   },
   "file_extension": ".py",
   "mimetype": "text/x-python",
   "name": "python",
   "nbconvert_exporter": "python",
   "pygments_lexer": "ipython3",
   "version": "3.6.6"
  }
 },
 "nbformat": 4,
 "nbformat_minor": 2
}
